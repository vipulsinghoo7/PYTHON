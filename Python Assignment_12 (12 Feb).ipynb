{
 "cells": [
  {
   "cell_type": "markdown",
   "id": "3d0d5ab9-f12e-473b-858e-5e5dcfed3e0e",
   "metadata": {},
   "source": [
    "# Q1. What is an Exception in python? Write the difference between Exceptions and syntax errors?"
   ]
  },
  {
   "cell_type": "code",
   "execution_count": 10,
   "id": "98ba3a6f-8b9f-4daf-b0f1-fb478c02e38a",
   "metadata": {},
   "outputs": [
    {
     "data": {
      "text/plain": [
       "' Unlike exceptions, which occur during the execution of the program, syntax errors prevent the program from running at all.'"
      ]
     },
     "execution_count": 10,
     "metadata": {},
     "output_type": "execute_result"
    }
   ],
   "source": [
    "#\"In Python, an exception is an event that occurs during the execution of a program that disrupts the normal flow of instructions.\"\n",
    "\" When an exception occurs, Python generates an object that represents the error, which can then be handled by the program.\"\n",
    "\n",
    "\"Exceptions in Python can be caused by a variety of factors, such as dividing by zero, referencing a non-existent variable, or opening a file that doesn't exist.\"\n",
    "\" Some common exceptions in Python include TypeError, ValueError, and IOError.\"\n",
    "\n",
    "\"Syntax errors, on the other hand, are errors that occur when the Python interpreter cannot understand the code that has been written.\"\n",
    "\" Syntax errors are usually caused by spelling mistakes, missing punctuation, or incorrect use of Python syntax.\"\n",
    "\" Unlike exceptions, which occur during the execution of the program, syntax errors prevent the program from running at all.\"\n",
    "\n",
    "# \"The key difference between exceptions and syntax errors is that exceptions occur during the execution of a program, while syntax errors occur before the program is executed.\"\n",
    "# \" Exceptions can be handled with try-except blocks, which allow the program to continue running despite the error, while syntax errors must be fixed before the program can be executed.\""
   ]
  },
  {
   "cell_type": "markdown",
   "id": "b2ba99c7-8288-4eca-b0ee-6c0205471d29",
   "metadata": {},
   "source": [
    "# Q2. What happens when an exception is not handled? Explain with an example"
   ]
  },
  {
   "cell_type": "code",
   "execution_count": 12,
   "id": "09473bab-8466-4bb3-950b-68ff1e79c6eb",
   "metadata": {},
   "outputs": [
    {
     "ename": "TypeError",
     "evalue": "unsupported operand type(s) for +: 'int' and 'str'",
     "output_type": "error",
     "traceback": [
      "\u001b[0;31m---------------------------------------------------------------------------\u001b[0m",
      "\u001b[0;31mTypeError\u001b[0m                                 Traceback (most recent call last)",
      "Cell \u001b[0;32mIn[12], line 7\u001b[0m\n\u001b[1;32m      5\u001b[0m x \u001b[38;5;241m=\u001b[39m \u001b[38;5;241m5\u001b[39m\n\u001b[1;32m      6\u001b[0m y \u001b[38;5;241m=\u001b[39m \u001b[38;5;124m\"\u001b[39m\u001b[38;5;124mhello\u001b[39m\u001b[38;5;124m\"\u001b[39m\n\u001b[0;32m----> 7\u001b[0m z \u001b[38;5;241m=\u001b[39m \u001b[43mx\u001b[49m\u001b[43m \u001b[49m\u001b[38;5;241;43m+\u001b[39;49m\u001b[43m \u001b[49m\u001b[43my\u001b[49m \u001b[38;5;66;03m# Raises a TypeError: unsupported operand type(s) for +: 'int' and 'str' \u001b[39;00m\n",
      "\u001b[0;31mTypeError\u001b[0m: unsupported operand type(s) for +: 'int' and 'str'"
     ]
    }
   ],
   "source": [
    "\"When an exception is not handled, the program terminates abruptly and generates a traceback, which is a detailed report of the error that occurred.\"\n",
    "\n",
    "#The traceback provides information about the line of code where the error occurred, the type of error, and a description of the error.\n",
    "\n",
    "x = 5\n",
    "y = \"hello\"\n",
    "z = x + y # Raises a TypeError: unsupported operand type(s) for +: 'int' and 'str' \n"
   ]
  },
  {
   "cell_type": "markdown",
   "id": "b3a0d73d-c452-4739-9408-ac91a5d82b87",
   "metadata": {},
   "source": [
    "# Q3. Which Python statements are used to catch and handle exceptions? Explain with an example"
   ]
  },
  {
   "cell_type": "code",
   "execution_count": 29,
   "id": "7c91fccf-343c-4d5d-bb0d-f90e770b2213",
   "metadata": {},
   "outputs": [
    {
     "name": "stdout",
     "output_type": "stream",
     "text": [
      "TypeError: cannot add an int and a str\n",
      " the statements that handle the exception are written inside except clause. \n"
     ]
    }
   ],
   "source": [
    "# Try and except statements are used to catch and handle exceptions in Python. \n",
    "\n",
    "x = 5\n",
    "y = \"hello\"\n",
    "try: \n",
    "    z = x + y \n",
    "    \n",
    "    print(\"Statements that can raise exceptions are kept inside the try clause.\")\n",
    "    \n",
    "except TypeError: \n",
    "    print(\"TypeError: cannot add an int and a str\") \n",
    "    \n",
    "    print(\" the statements that handle the exception are written inside except clause. \")\n"
   ]
  },
  {
   "cell_type": "markdown",
   "id": "9b63038b-2eab-4204-b78a-78b9de1c895c",
   "metadata": {},
   "source": [
    "# Q4. Explain with an example:#\n",
    "\n",
    "* try and else\n",
    "* finally\n",
    "* raise\n"
   ]
  },
  {
   "cell_type": "code",
   "execution_count": 33,
   "id": "7111f33c-d02f-41de-86fa-688f3c4909ae",
   "metadata": {},
   "outputs": [
    {
     "name": "stdout",
     "output_type": "stream",
     "text": [
      "25.0\n",
      "50.0\n"
     ]
    }
   ],
   "source": [
    "# try and else statements can be used in combination to handle exceptions in Python. \n",
    "#The else block is executed if no exceptions are raised in the try block.\n",
    "#example\n",
    "\n",
    "def divide(x, y):\n",
    "    try:\n",
    "        result = x / y\n",
    "    except ZeroDivisionError:\n",
    "        print(\"Cannot divide by zero\")\n",
    "    else:\n",
    "        return result\n",
    "\n",
    "print(divide(50, 2)) # Output: 25.0\n",
    "print(divide(100, 2)) # Output: 50.0\n"
   ]
  },
  {
   "cell_type": "code",
   "execution_count": 35,
   "id": "a1a35b68-bca1-46ba-ab33-c6db5750adf3",
   "metadata": {},
   "outputs": [
    {
     "name": "stdout",
     "output_type": "stream",
     "text": [
      "Executing finally block\n",
      "25.0\n",
      "Cannot divide by zero\n",
      "Executing finally block\n",
      "None\n"
     ]
    }
   ],
   "source": [
    "#The finally statement in Python is used to specify a block of code that should be executed regardless of whether an exception occurs or not. \n",
    "#The code in the finally block is guaranteed to be executed, even if an exception is raised and not caught in the try block.\n",
    "#example\n",
    "def divide(x, y):\n",
    "    try:\n",
    "        result = x / y\n",
    "    except ZeroDivisionError:\n",
    "        print(\"Cannot divide by zero\")\n",
    "        result = None\n",
    "    finally:\n",
    "        print(\"Executing finally block\")\n",
    "    return result\n",
    "\n",
    "print(divide(50, 2)) # Output: Executing finally block \\n 25.0\n",
    "print(divide(100, 0)) # Output: Cannot divide by zero \\n Executing finally block \\n None"
   ]
  },
  {
   "cell_type": "code",
   "execution_count": 36,
   "id": "92c88fa2-1b5b-404d-a0c3-78518dc8e8e0",
   "metadata": {},
   "outputs": [
    {
     "name": "stdout",
     "output_type": "stream",
     "text": [
      "25.0\n",
      "Cannot divide by zero\n"
     ]
    }
   ],
   "source": [
    "#The raise statement in Python is used to raise an exception explicitly. \n",
    "#It is used to indicate that an error has occurred and to stop the normal execution of the program.\n",
    "#example\n",
    "\n",
    "def divide(x, y):\n",
    "    if y == 0:\n",
    "        raise ZeroDivisionError(\"Cannot divide by zero\")\n",
    "    return x / y\n",
    "\n",
    "try:\n",
    "    print(divide(50, 2)) # Output: 25.0\n",
    "    print(divide(100, 0))\n",
    "except ZeroDivisionError as e:\n",
    "    print(e) # Output: Cannot divide by zero"
   ]
  },
  {
   "cell_type": "markdown",
   "id": "b034d026-42f5-4b14-a650-a9db135d3e4b",
   "metadata": {},
   "source": [
    "# Q5. What are Custom Exceptions in python? Why do we need Custom Exceptions ? Explain in with an example\n",
    "\n",
    "Custom exceptions are user-defined exceptions in Python. They allow you to define specific types of exceptions for your application, so you can handle errors and exceptions in a more organized and meaningful way.\n",
    "\n",
    "Let us consider a scenario where you are writing a library that performs some mathematical calculations. In this library, you may encounter several different types of errors, such as invalid input, overflow, and divide-by-zero errors. You could handle these errors by raising built-in exceptions, such as ValueError or ZeroDivisionError, but it may not provide enough context or information about the error that has occurred."
   ]
  },
  {
   "cell_type": "code",
   "execution_count": 37,
   "id": "49295bf3-dcdd-4ce7-9098-86d8da435684",
   "metadata": {},
   "outputs": [
    {
     "name": "stdin",
     "output_type": "stream",
     "text": [
      "Enter a number:  000\n"
     ]
    },
    {
     "name": "stdout",
     "output_type": "stream",
     "text": [
      "Input value is zero, try again!\n",
      "\n"
     ]
    }
   ],
   "source": [
    "# define Python user-defined exceptions\n",
    "class Error(Exception):\n",
    "\t\"\"\"Base class for other exceptions\"\"\"\n",
    "\tpass\n",
    "\n",
    "class zerodivision(Error):\n",
    "\t\"\"\"Raised when the input value is zero\"\"\"\n",
    "\tpass\n",
    "\n",
    "try:\n",
    "\ti_num = int(input(\"Enter a number: \"))\n",
    "\tif i_num == 0:\n",
    "\t\traise zerodivision\n",
    "except zerodivision:\n",
    "\tprint(\"Input value is zero, try again!\")\n",
    "\tprint()\n"
   ]
  },
  {
   "cell_type": "markdown",
   "id": "381a9824-b3bb-4b15-b8aa-6b40a5525dd9",
   "metadata": {},
   "source": [
    "# Q6. Create a custom exception class. Use this class to handle an exception."
   ]
  },
  {
   "cell_type": "code",
   "execution_count": 38,
   "id": "6ab6dc74-1f08-4f3a-adb8-0d9fb159861e",
   "metadata": {},
   "outputs": [
    {
     "name": "stdout",
     "output_type": "stream",
     "text": [
      "A New Exception occurred:  6\n"
     ]
    }
   ],
   "source": [
    "# A python program to create user-defined exception\n",
    "# class MyError is derived from super class Exception\n",
    "class MyError(Exception):\n",
    "\n",
    "\t# Constructor or Initializer\n",
    "\tdef __init__(self, value):\n",
    "\t\tself.value = value\n",
    "\n",
    "\t# __str__ is to print() the value\n",
    "\tdef __str__(self):\n",
    "\t\treturn(repr(self.value))\n",
    "\n",
    "\n",
    "try:\n",
    "\traise(MyError(3*2))\n",
    "\n",
    "# Value of Exception is stored in error\n",
    "except MyError as error:\n",
    "\tprint('A New Exception occurred: ', error.value)\n"
   ]
  },
  {
   "cell_type": "code",
   "execution_count": null,
   "id": "504585ad-8717-4777-8f1e-cca765266906",
   "metadata": {},
   "outputs": [],
   "source": []
  }
 ],
 "metadata": {
  "kernelspec": {
   "display_name": "Python 3 (ipykernel)",
   "language": "python",
   "name": "python3"
  },
  "language_info": {
   "codemirror_mode": {
    "name": "ipython",
    "version": 3
   },
   "file_extension": ".py",
   "mimetype": "text/x-python",
   "name": "python",
   "nbconvert_exporter": "python",
   "pygments_lexer": "ipython3",
   "version": "3.10.8"
  },
  "toc-autonumbering": false,
  "toc-showmarkdowntxt": false,
  "toc-showtags": true
 },
 "nbformat": 4,
 "nbformat_minor": 5
}
