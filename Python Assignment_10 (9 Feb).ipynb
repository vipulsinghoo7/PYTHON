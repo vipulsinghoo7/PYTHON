{
 "cells": [
  {
   "cell_type": "markdown",
   "id": "952cf149-ab78-4c3b-86e5-73a83b34ece3",
   "metadata": {},
   "source": [
    "#Q1, Create a vehicle class with an init method having instance variables as name_of_vehicle, max_speed\n",
    "and average_of_vehicle. "
   ]
  },
  {
   "cell_type": "code",
   "execution_count": 14,
   "id": "8a6dbbfb-49ff-43fd-bb30-1425599af705",
   "metadata": {},
   "outputs": [
    {
     "name": "stdout",
     "output_type": "stream",
     "text": [
      "SONET 220 10000\n"
     ]
    }
   ],
   "source": [
    "class Vehicle:\n",
    "    def __init__(self, name_of_vehicle, max_speed, average_of_vehicle):\n",
    "        self.name_of_vehicle =  name_of_vehicle\n",
    "        self.max_speed = max_speed\n",
    "        self.average_of_vehicle = average_of_vehicle\n",
    "\n",
    "car = Vehicle('SONET',220, 10000)\n",
    "print(car.name_of_vehicle,car.max_speed, car.average_of_vehicle)"
   ]
  },
  {
   "cell_type": "markdown",
   "id": "dc290cea-4baf-48e6-a8de-255cfc0f3f3c",
   "metadata": {},
   "source": [
    "#Q2.  Create a child class car from the vehicle class created in Que 1, which will inherit the vehicle class.\n",
    "Create a method named seating_capacity which takes capacity as an argument and returns the name of\n",
    "the vehicle and its seating capacity."
   ]
  },
  {
   "cell_type": "code",
   "execution_count": 15,
   "id": "f2474928-5cd9-4e94-aa35-2a6c3dcb7857",
   "metadata": {},
   "outputs": [
    {
     "data": {
      "text/plain": [
       "'The seating capacity of a sonet is 5 passengers'"
      ]
     },
     "execution_count": 15,
     "metadata": {},
     "output_type": "execute_result"
    }
   ],
   "source": [
    "class Vehicle:\n",
    "    def __init__(self, name_of_vehicle, max_speed, average_of_vehicle):\n",
    "        self.name_of_vehicle =  name_of_vehicle\n",
    "        self.max_speed = max_speed\n",
    "        self.average_of_vehicle = average_of_vehicle\n",
    "        \n",
    "    def seating_capacity(self, seating_capacity):\n",
    "        return f\"The seating capacity of a {self.name_of_vehicle} is {seating_capacity} passengers\"\n",
    "    \n",
    "    # Solution\n",
    "class car(Vehicle):\n",
    "    \n",
    "    def seating_capacity(self, seating_capacity=5):\n",
    "        return f\"The seating capacity of a {self.name_of_vehicle} is {seating_capacity} passengers\"\n",
    "    \n",
    "car(\"sonet\", 220, 10000).seating_capacity()"
   ]
  },
  {
   "cell_type": "markdown",
   "id": "111c581b-1e5c-4ad9-9f2c-f08f38d0b86c",
   "metadata": {},
   "source": [
    "#Q3. What is multiple inheritance? Write a python code to demonstrate multiple inheritance."
   ]
  },
  {
   "cell_type": "code",
   "execution_count": 2,
   "id": "44abceac-e171-4d96-b2b5-737292069f79",
   "metadata": {},
   "outputs": [
    {
     "name": "stdout",
     "output_type": "stream",
     "text": [
      "Father : RAM\n",
      "Mother : SITA\n"
     ]
    }
   ],
   "source": [
    "'When a class can be derived from more than one base class this type of inheritance is called multiple inheritances.'\n",
    "'In multiple inheritances, all the features of the base classes are inherited into the derived class.'\n",
    "\n",
    "# Python program to demonstrate\n",
    "# multiple inheritance\n",
    "\n",
    "# Base class1\n",
    "class Mother:\n",
    "\tmothername = \"\"\n",
    "\n",
    "\tdef mother(self):\n",
    "\t\tprint(self.mothername)\n",
    "\n",
    "# Base class2\n",
    "\n",
    "\n",
    "class Father:\n",
    "\tfathername = \"\"\n",
    "\n",
    "\tdef father(self):\n",
    "\t\tprint(self.fathername)\n",
    "\n",
    "# Derived class\n",
    "\n",
    "\n",
    "class Son(Mother, Father):\n",
    "\tdef parents(self):\n",
    "\t\tprint(\"Father :\", self.fathername)\n",
    "\t\tprint(\"Mother :\", self.mothername)\n",
    "\n",
    "\n",
    "# Driver's code\n",
    "s1 = Son()\n",
    "s1.fathername = \"RAM\"\n",
    "s1.mothername = \"SITA\"\n",
    "s1.parents()\n"
   ]
  },
  {
   "cell_type": "markdown",
   "id": "78a36803-5aa1-492f-a39e-e7f3322c67af",
   "metadata": {},
   "source": [
    "#Q4. What are getter and setter in python? Create a class and create a getter and a setter method in this\n",
    "class."
   ]
  },
  {
   "cell_type": "code",
   "execution_count": 4,
   "id": "34820e6e-fcf8-473b-95ef-87838c078ce6",
   "metadata": {},
   "outputs": [
    {
     "name": "stdout",
     "output_type": "stream",
     "text": [
      "setter method called\n",
      "getter method called\n",
      "27\n"
     ]
    }
   ],
   "source": [
    "'Getter: A method that allows you to access an attribute in a given class.'\n",
    "\n",
    "'Setter: A method that allows you to set or mutate the value of an attribute in a class.'\n",
    "\n",
    "# Python program showing the use of\n",
    "# @property\n",
    "\n",
    "class Geeks:\n",
    "\tdef __init__(self):\n",
    "\t\tself._age = 0\n",
    "\t\n",
    "\t# using property decorator\n",
    "\t# a getter function\n",
    "\t@property\n",
    "\tdef age(self):\n",
    "\t\tprint(\"getter method called\")\n",
    "\t\treturn self._age\n",
    "\t\n",
    "\t# a setter function\n",
    "\t@age.setter\n",
    "\tdef age(self, a):\n",
    "\t\tif(a < 18):\n",
    "\t\t\traise ValueError(\"Sorry you age is below eligibility criteria\")\n",
    "\t\tprint(\"setter method called\")\n",
    "\t\tself._age = a\n",
    "\n",
    "self = Geeks()\n",
    "\n",
    "self.age = 27\n",
    "\n",
    "print(self.age)\n"
   ]
  },
  {
   "cell_type": "markdown",
   "id": "5c8e0ed7-4f94-42a9-b564-983caf46f59d",
   "metadata": {},
   "source": [
    "#Q5.What is method overriding in python? Write a python code to demonstrate method overriding."
   ]
  },
  {
   "cell_type": "code",
   "execution_count": 7,
   "id": "5e3148c9-b5a4-41dd-b057-e9d606f19b4a",
   "metadata": {},
   "outputs": [
    {
     "name": "stdout",
     "output_type": "stream",
     "text": [
      "Inside Parent\n",
      "Inside Child\n"
     ]
    }
   ],
   "source": [
    "'Method overriding in Python is when you have two methods with the same name that each perform different tasks.'\n",
    "'This is an important feature of inheritance in Python.'\n",
    "'In method overriding, the child class can change its functions that are defined by its ancestral classes.'\n",
    "\n",
    "\n",
    "# Python program to demonstrate\n",
    "# method overriding\n",
    "\n",
    "\n",
    "# Defining parent class\n",
    "class Parent():\n",
    "\t\n",
    "\t# Constructor\n",
    "\tdef __init__(self):\n",
    "\t\tself.value = \"Inside Parent\"\n",
    "\t\t\n",
    "\t# Parent's show method\n",
    "\tdef show(self):\n",
    "\t\tprint(self.value)\n",
    "\t\t\n",
    "# Defining child class\n",
    "class Child(Parent):\n",
    "\t\n",
    "\t# Constructor\n",
    "\tdef __init__(self):\n",
    "\t\tself.value = \"Inside Child\"\n",
    "\t\t\n",
    "\t# Child's show method\n",
    "\tdef show(self):\n",
    "\t\tprint(self.value)\n",
    "\t\t\n",
    "\t\t\n",
    "# Driver's code\n",
    "obj1 = Parent()\n",
    "obj2 = Child()\n",
    "\n",
    "obj1.show()\n",
    "obj2.show()\n"
   ]
  },
  {
   "cell_type": "code",
   "execution_count": null,
   "id": "23e3b19a-bb3c-48de-b362-9795cb58a0ae",
   "metadata": {},
   "outputs": [],
   "source": []
  }
 ],
 "metadata": {
  "kernelspec": {
   "display_name": "Python 3 (ipykernel)",
   "language": "python",
   "name": "python3"
  },
  "language_info": {
   "codemirror_mode": {
    "name": "ipython",
    "version": 3
   },
   "file_extension": ".py",
   "mimetype": "text/x-python",
   "name": "python",
   "nbconvert_exporter": "python",
   "pygments_lexer": "ipython3",
   "version": "3.10.8"
  }
 },
 "nbformat": 4,
 "nbformat_minor": 5
}
