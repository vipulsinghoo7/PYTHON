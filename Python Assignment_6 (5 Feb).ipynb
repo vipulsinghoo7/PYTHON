{
 "cells": [
  {
   "cell_type": "markdown",
   "id": "7780aa8e-6804-489c-8df5-27c150e8fc8c",
   "metadata": {},
   "source": [
    "#Q1. Explain Class and Object with respect to Object-Oriented Programming. Give a suitable example."
   ]
  },
  {
   "cell_type": "code",
   "execution_count": null,
   "id": "bc38f6ff-6380-4cf9-aa85-84dfa0c56107",
   "metadata": {},
   "outputs": [],
   "source": [
    "'Object − Objects have states and behaviors.'\n",
    "Example: A dog has states - color, name, breed as well as behaviors – wagging the tail, barking, eating.\n",
    "An object is an instance of a class. \n",
    "'Class − A class can be defined as a template/blueprint that describes the behavior/state that the object of its type support.'"
   ]
  },
  {
   "cell_type": "markdown",
   "id": "539e1da1-51ea-410f-866f-bc4529446aa4",
   "metadata": {},
   "source": [
    "#Q2. Name the four pillars of OOPs."
   ]
  },
  {
   "cell_type": "code",
   "execution_count": null,
   "id": "5b33682d-4b80-4a53-be84-5e55711f9f78",
   "metadata": {},
   "outputs": [],
   "source": [
    "The four pillars of object-oriented programming are:\n",
    "\n",
    "1.Abstraction\n",
    "2.Encapsulation\n",
    "3.Inheritance\n",
    "4.Polymorphism"
   ]
  },
  {
   "cell_type": "markdown",
   "id": "ba0b403e-80a8-443b-9c83-0ceef4b0c566",
   "metadata": {},
   "source": [
    "#Q3. Explain why the __init__() function is used. Give a suitable example."
   ]
  },
  {
   "cell_type": "code",
   "execution_count": null,
   "id": "511f249d-bf27-4b88-8814-d650ce69f856",
   "metadata": {},
   "outputs": [],
   "source": [
    "' __init__ is a special python method that runs whenever a new object is created.' \n",
    "    These types of functions are used to initialize the attributes of that class,\n",
    "    E.g., if the class is Person, then the attributes will be name, age, etc."
   ]
  },
  {
   "cell_type": "markdown",
   "id": "90c3d8f7-9578-4655-b188-e8d5e7e89250",
   "metadata": {},
   "source": [
    "#Q4. Why self is used in OOPs?"
   ]
  },
  {
   "cell_type": "code",
   "execution_count": null,
   "id": "35fb21a2-cb70-445e-aee5-6814d89a0eb2",
   "metadata": {},
   "outputs": [],
   "source": [
    "'self represents the instance of the class. By using the “self” we can access the attributes and methods of the class in python.' \n",
    "It binds the attributes with the given arguments. \n",
    "The reason you need to use self is because Python does not use the @ syntax to refer to instance attributes."
   ]
  },
  {
   "cell_type": "markdown",
   "id": "1f334f64-9d4c-40ad-94f4-e2d08badb722",
   "metadata": {},
   "source": [
    "#Q5. What is inheritance? Give an example for each type of inheritance."
   ]
  },
  {
   "cell_type": "code",
   "execution_count": null,
   "id": "18a6d989-4533-4f29-8769-d014c9c62128",
   "metadata": {},
   "outputs": [],
   "source": [
    "'Inheritance is a mechanism in which one class acquires the property of another class.'\n",
    "\n",
    "1.\"Single inheritance\" enables a derived class to inherit properties from a 'single parent class',\n",
    "  thus enabling code reusability and the addition of new features to existing code.\n",
    "    \n",
    "2.When a class can be derived from 'more than one base class' this type of inheritance is called \"multiple inheritances.\"\n",
    "  In multiple inheritances, all the features of the base classes are inherited into the derived class. \n",
    "    \n",
    "3.\"In multilevel inheritance,\" features of the base class and the derived class are further inherited into the new derived class. \n",
    "  This is similar to a 'relationship representing a child and a grandfather.'\n",
    "    \n",
    "4.When more than one derived class are created from a single base this type of inheritance is called \"hierarchical inheritance\". \n",
    "  In this program,' we have a parent (base) class and two child (derived) classes.'\n",
    "    \n",
    "5.Inheritance consisting of multiple types of inheritance is called \"hybrid inheritance\".\n",
    "  Example; 'forest biological system'"
   ]
  }
 ],
 "metadata": {
  "kernelspec": {
   "display_name": "Python 3 (ipykernel)",
   "language": "python",
   "name": "python3"
  },
  "language_info": {
   "codemirror_mode": {
    "name": "ipython",
    "version": 3
   },
   "file_extension": ".py",
   "mimetype": "text/x-python",
   "name": "python",
   "nbconvert_exporter": "python",
   "pygments_lexer": "ipython3",
   "version": "3.10.8"
  }
 },
 "nbformat": 4,
 "nbformat_minor": 5
}
