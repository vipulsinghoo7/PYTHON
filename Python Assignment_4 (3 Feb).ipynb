{
 "cells": [
  {
   "cell_type": "markdown",
   "id": "7e754d40-8668-4da7-8ff7-3f56bb834367",
   "metadata": {
    "tags": []
   },
   "source": [
    "# Q1. Which keyword is used to create a function? Create a function to return a list of odd numbers in the \n",
    "range of 1 to 25"
   ]
  },
  {
   "cell_type": "code",
   "execution_count": 9,
   "id": "14720c88-76b1-4a10-a72d-d1324c9b9d55",
   "metadata": {},
   "outputs": [
    {
     "name": "stdout",
     "output_type": "stream",
     "text": [
      "[1, 3, 5, 7, 9, 11, 13, 15, 17, 19, 21, 23, 25]\n"
     ]
    }
   ],
   "source": [
    "\"def keyword is used to define a function\"\n",
    "numbers = [1, 2, 3, 4, 5, 6, 7, 8, 9, 10, 11, 12, 13, 14, 15, 16, 17, 18, 19, 20, 21, 22, 23, 24, 25]\n",
    "\n",
    "odd_numbers = filter(lambda x: x%2 != 0, numbers)\n",
    "\n",
    "print(list(odd_numbers))"
   ]
  },
  {
   "cell_type": "markdown",
   "id": "d381d467-23d0-4d8c-9a0e-be5c3c0a0d2a",
   "metadata": {},
   "source": [
    "# Q2. Why *args and **kwargs is used in some functions? \n",
    "Create a function each for *args and **kwargs to demonstrate their use"
   ]
  },
  {
   "cell_type": "code",
   "execution_count": 8,
   "id": "056696e0-d49a-4ed3-bec2-aeb41cd43da8",
   "metadata": {},
   "outputs": [
    {
     "name": "stdout",
     "output_type": "stream",
     "text": [
      "Sum: 8\n",
      "Sum: 22\n",
      "Sum: 17\n"
     ]
    }
   ],
   "source": [
    " \"\"\"asterisk(*) args is used to give multiple data in a function \"\"\"\n",
    "def adder(*num):\n",
    "    sum = 0\n",
    "    \n",
    "    for n in num:\n",
    "        sum = sum + n\n",
    "\n",
    "    print(\"Sum:\",sum)\n",
    "\n",
    "adder(3,5)\n",
    "adder(4,5,6,7)\n",
    "adder(1,2,3,5,6)"
   ]
  },
  {
   "cell_type": "code",
   "execution_count": 4,
   "id": "659a15ca-5e4e-41ea-aee9-df1b65a7ad1d",
   "metadata": {},
   "outputs": [
    {
     "name": "stdout",
     "output_type": "stream",
     "text": [
      "\n",
      "Data type of argument: <class 'dict'>\n",
      "Firstname is Vipul\n",
      "Lastname is Singh\n",
      "Age is 27\n",
      "Phone is 7905853921\n",
      "\n",
      "Data type of argument: <class 'dict'>\n",
      "Firstname is Sudhanshu\n",
      "Lastname is Kumar\n",
      "Email is support@pwskills.com\n",
      "Country is India\n",
      "Age is 35\n",
      "Phone is 7666122288\n"
     ]
    }
   ],
   "source": [
    " \"\"\"double asterisk(**) kwargs is used to give key and value data in a function \"\"\"\n",
    "def intro(**data):\n",
    "    print(\"\\nData type of argument:\",type(data))\n",
    "\n",
    "    for key, value in data.items():\n",
    "        print(\"{} is {}\".format(key,value))\n",
    "\n",
    "intro(Firstname=\"Vipul\", Lastname=\"Singh\", Age=27, Phone=7905853921)\n",
    "intro(Firstname=\"Sudhanshu\", Lastname=\"Kumar\", Email=\"support@pwskills.com\", Country=\"India\", Age=35, Phone= 7666122288)"
   ]
  },
  {
   "cell_type": "markdown",
   "id": "e59a31ef-d898-4fe7-bdef-40ce67333258",
   "metadata": {},
   "source": [
    "# Q3.  What is an iterator in python? Name the method used to initialise the iterator object and the method used for iteration. Use these methods to \n",
    "print the first five elements of the given list [2, 4, 6, 8, 10, 12, 14, 16, 18, 20]"
   ]
  },
  {
   "cell_type": "code",
   "execution_count": 10,
   "id": "e41c9250-4dfb-4394-b722-b522f21c3141",
   "metadata": {},
   "outputs": [
    {
     "name": "stdout",
     "output_type": "stream",
     "text": [
      "2\n",
      "4\n",
      "6\n",
      "8\n",
      "10\n"
     ]
    }
   ],
   "source": [
    "\"\"\" Iterators are methods that iterate collections like lists, tuples, etc. Using an iterator method, we can loop through an object and return its\n",
    "elements.\n",
    "\n",
    "Technically, a Python iterator object must implement two special methods, __iter__() and __next__(), collectively called the iterator protocol.\n",
    "\n",
    "In Python, we can use the next() function to return the next item in the sequence.\"\"\"\n",
    "\n",
    "# create a list of integers\n",
    "my_list = [2, 4, 6, 8, 10, 12, 14, 16, 18, 20]\n",
    "\n",
    "\n",
    "# iter() with a list of integers\n",
    "my_list_iter = iter(my_list)\n",
    "\n",
    "print(next(my_list_iter))\n",
    "print(next(my_list_iter))\n",
    "print(next(my_list_iter))\n",
    "print(next(my_list_iter))\n",
    "print(next(my_list_iter))"
   ]
  },
  {
   "cell_type": "markdown",
   "id": "091f6817-0905-4d74-a395-1d75aa9c46ca",
   "metadata": {},
   "source": [
    "# Q4.  What is a generator function in python? Why yield keyword is used? Give an example of a\n",
    "generator function."
   ]
  },
  {
   "cell_type": "code",
   "execution_count": 1,
   "id": "9bdfacda-c882-4fcb-86aa-f8356cd34f16",
   "metadata": {},
   "outputs": [
    {
     "name": "stdout",
     "output_type": "stream",
     "text": [
      "Item 1\n",
      "Item 2\n",
      "<generator object test_yields at 0x7fb24ef39c40>\n"
     ]
    }
   ],
   "source": [
    "\"\"\"Generator functions provide allow you to define an iterative algorithm by writing a single function whose execution is not continuous.\"\"\"\n",
    "\n",
    "\"\"\"yield keyword is used to create a generator function. A type of function that is memory efficient and can be used like an iterator object\"\"\"\n",
    "\n",
    "# Defining the generator function\n",
    "def test_yields():\n",
    "    yield 'Item 1'\n",
    "    yield 'Item 2'\n",
    "\n",
    "# Assigning the generator function\n",
    "iter_object = test_yields()\n",
    "\n",
    "# Each time the generator function is invoked it returns a different item\n",
    "print(next(iter_object))\n",
    "print(next(iter_object))\n",
    "\n",
    "# Printing out the variable iter_object returns a generator object\n",
    "print(iter_object)\n"
   ]
  },
  {
   "cell_type": "markdown",
   "id": "d7b399fd-3f94-477d-b7e9-9841821a29fc",
   "metadata": {},
   "source": [
    "# Q5. Create a generator function for prime numbers less than 1000. Use the next() method to print the \n",
    "first 20 prime numbers."
   ]
  },
  {
   "cell_type": "code",
   "execution_count": 2,
   "id": "ed5106c5-8d89-4983-8ab5-3e5993f69b1a",
   "metadata": {},
   "outputs": [
    {
     "name": "stdin",
     "output_type": "stream",
     "text": [
      "Enter the range:  1000\n"
     ]
    },
    {
     "name": "stdout",
     "output_type": "stream",
     "text": [
      "2 3 5 7 11 13 17 19 23 29 31 37 41 43 47 53 59 61 67 71 73 79 83 89 97 101 103 107 109 113 127 131 137 139 149 151 157 163 167 173 179 181 191 193 197 199 211 223 227 229 233 239 241 251 257 263 269 271 277 281 283 293 307 311 313 317 331 337 347 349 353 359 367 373 379 383 389 397 401 409 419 421 431 433 439 443 449 457 461 463 467 479 487 491 499 503 509 521 523 541 547 557 563 569 571 577 587 593 599 601 607 613 617 619 631 641 643 647 653 659 661 673 677 683 691 701 709 719 727 733 739 743 751 757 761 769 773 787 797 809 811 821 823 827 829 839 853 857 859 863 877 881 883 887 907 911 919 929 937 941 947 953 967 971 977 983 991 997 "
     ]
    }
   ],
   "source": [
    "def Prime_seq(num):\n",
    "    for i in range(2,num):\n",
    "        if prime(i) == True:\n",
    "            print(i,end = \" \")\n",
    "        else:\n",
    "            pass\n",
    "\n",
    "num = int(input(\"Enter the range: \"))\n",
    "prime = lambda num: all( num%x != 0 for x in range(2, int(num**.5)+1) )\n",
    "Prime_seq(num)"
   ]
  },
  {
   "cell_type": "code",
   "execution_count": 3,
   "id": "f68be1a9-ca41-4201-a73e-dd586281d34c",
   "metadata": {},
   "outputs": [
    {
     "name": "stdout",
     "output_type": "stream",
     "text": [
      "2\n",
      "3\n",
      "5\n",
      "7\n",
      "11\n",
      "13\n",
      "17\n",
      "19\n",
      "23\n",
      "29\n",
      "31\n",
      "37\n",
      "41\n",
      "43\n",
      "47\n",
      "53\n",
      "59\n",
      "61\n",
      "67\n",
      "71\n"
     ]
    }
   ],
   "source": [
    "# create a list of integers\n",
    "my_list = [2, 3, 5, 7, 11, 13, 17, 19, 23, 29, 31, 37, 41, 43, 47, 53, 59, 61, 67, 71, 73, 79, 83, 89, 97, 101, 103, 107, 109, 113, 127, 131, 137, \n",
    "           139,149,151, 157, 163, 167, 173, 179, 181, 191, 193, 197, 199, 211, 223, 227, 229, 233, 239, 241, 251, 257, 263, 269, 271, 277, 281, 283,\n",
    "           293,307, 311, 313, 317, 331, 337, 347, 349, 353, 359, 367, 373, 379, 383, 389, 397, 401,409, 419, 421, 431, 433, 439, 443, 449, 457, 461,\n",
    "           463,467, 479, 487, 491, 499, 503, 509, 521, 523, 541, 547, 557, 563, 569, 571, 577, 587, 593, 599, 601, 607, 613, 617, 619, 631,641, 643,\n",
    "           647,653, 659, 661, 673, 677, 683, 691, 701, 709, 719, 727, 733, 739, 743, 751, 757, 761, 769, 773, 787, 797, 809, 811, 821, 823, 827, 829,\n",
    "           839,853, 857, 859, 863, 877,881, 883, 887, 907, 911, 919, 929, 937, 941, 947, 953, 967, 971, 977, 983, 991, 997,]\n",
    "      \n",
    "     \n",
    "# iter() with a list of integers\n",
    "my_list_iter = iter(my_list)\n",
    "\n",
    "print(next(my_list_iter))\n",
    "print(next(my_list_iter))\n",
    "print(next(my_list_iter))\n",
    "print(next(my_list_iter))\n",
    "print(next(my_list_iter))\n",
    "print(next(my_list_iter))\n",
    "print(next(my_list_iter))\n",
    "print(next(my_list_iter))\n",
    "print(next(my_list_iter))\n",
    "print(next(my_list_iter))\n",
    "print(next(my_list_iter))\n",
    "print(next(my_list_iter))\n",
    "print(next(my_list_iter))\n",
    "print(next(my_list_iter))\n",
    "print(next(my_list_iter))\n",
    "print(next(my_list_iter))\n",
    "print(next(my_list_iter))\n",
    "print(next(my_list_iter))\n",
    "print(next(my_list_iter))\n",
    "print(next(my_list_iter))"
   ]
  },
  {
   "cell_type": "markdown",
   "id": "0f01ec3e-2063-4df1-8f15-7e5c1ea5612b",
   "metadata": {},
   "source": [
    "# Q6. Write a python program to \n",
    "print the first 10 Fibonacci numbers using a while loop."
   ]
  },
  {
   "cell_type": "code",
   "execution_count": 4,
   "id": "24c9f138-b399-42f9-8e49-91a20845cd80",
   "metadata": {},
   "outputs": [
    {
     "name": "stdin",
     "output_type": "stream",
     "text": [
      "Enter the Fibonacci Number Range:  10\n"
     ]
    },
    {
     "name": "stdout",
     "output_type": "stream",
     "text": [
      "0  1  1  2  3  5  8  13  21  34  "
     ]
    }
   ],
   "source": [
    "num = int(input(\"Enter the Fibonacci Number Range: \"))\n",
    "\n",
    "n1 = 0\n",
    "n2 = 1\n",
    "Sum = 0\n",
    "i = 0\n",
    "\n",
    "while(i <  num):\n",
    "    print(n1, end = '  ')\n",
    "    Sum = Sum + n1\n",
    "    Next = n1 + n2\n",
    "    n1 = n2\n",
    "    n2 = Next\n",
    "    i = i + 1"
   ]
  },
  {
   "cell_type": "markdown",
   "id": "1b597628-9f03-4730-8739-ae06c07e3d26",
   "metadata": {},
   "source": [
    "# Q7. Write a List Comprehension to iterate through the given string: ‘pwskills’.\n",
    "Expected output: ['p', 'w', 's', 'k', 'i', 'l', 'l', 's']"
   ]
  },
  {
   "cell_type": "code",
   "execution_count": 5,
   "id": "f44fa35d-0a5e-41d4-bece-b25564177933",
   "metadata": {},
   "outputs": [
    {
     "name": "stdout",
     "output_type": "stream",
     "text": [
      "['p', 'w', 's', 'k', 'i', 'l', 'l', 's']\n"
     ]
    }
   ],
   "source": [
    "h_letters = [ letter for letter in 'pwskills']\n",
    "print( h_letters)"
   ]
  },
  {
   "cell_type": "markdown",
   "id": "de67694b-20a9-459e-9b39-a613ab66f7b1",
   "metadata": {},
   "source": [
    "# Q8. Write a python program to \n",
    "check whether a given number is Palindrome or not using a while loop."
   ]
  },
  {
   "cell_type": "code",
   "execution_count": 1,
   "id": "61ed44fc-72e2-4034-90ba-578ed576726b",
   "metadata": {},
   "outputs": [
    {
     "name": "stdin",
     "output_type": "stream",
     "text": [
      "Enter any number: 123321\n"
     ]
    },
    {
     "name": "stdout",
     "output_type": "stream",
     "text": [
      "The 123321 number is palindrome!\n"
     ]
    }
   ],
   "source": [
    "num=int(input(\"Enter any number:\"))\n",
    "temp=num\n",
    "rev=0\n",
    "while(num>0):\n",
    "    dig=num%10\n",
    "    rev=rev*10+dig\n",
    "    num=num//10\n",
    "if(temp==rev):\n",
    "    print(\"The {0} number is palindrome!\".format(temp))\n",
    "else:\n",
    "    print(\"Not a palindrome!\")\n"
   ]
  },
  {
   "cell_type": "markdown",
   "id": "5a9bbb84-7b96-4107-82f9-b8fc1488810a",
   "metadata": {},
   "source": [
    "# Q9. Write a code to \n",
    "print odd numbers from 1 to 100 using list comprehension."
   ]
  },
  {
   "cell_type": "code",
   "execution_count": 2,
   "id": "541a39c6-e76b-41bf-8184-5f2550ddb3f6",
   "metadata": {},
   "outputs": [
    {
     "name": "stdout",
     "output_type": "stream",
     "text": [
      "[1, 3, 5, 7, 9, 11, 13, 15, 17, 19, 21, 23, 25, 27, 29, 31, 33, 35, 37, 39, 41, 43, 45, 47, 49, 51, 53, 55, 57, 59, 61, 63, 65, 67, 69, 71, 73, 75, 77, 79, 81, 83, 85, 87, 89, 91, 93, 95, 97, 99]\n"
     ]
    }
   ],
   "source": [
    "odd_list = [element for element in range(1, 100) if element % 2 == 1 ]\n",
    "print(odd_list)"
   ]
  },
  {
   "cell_type": "code",
   "execution_count": null,
   "id": "34a294c9-9825-41ce-9c93-0c7ce54b91ca",
   "metadata": {},
   "outputs": [],
   "source": []
  }
 ],
 "metadata": {
  "kernelspec": {
   "display_name": "Python 3 (ipykernel)",
   "language": "python",
   "name": "python3"
  },
  "language_info": {
   "codemirror_mode": {
    "name": "ipython",
    "version": 3
   },
   "file_extension": ".py",
   "mimetype": "text/x-python",
   "name": "python",
   "nbconvert_exporter": "python",
   "pygments_lexer": "ipython3",
   "version": "3.10.8"
  }
 },
 "nbformat": 4,
 "nbformat_minor": 5
}
