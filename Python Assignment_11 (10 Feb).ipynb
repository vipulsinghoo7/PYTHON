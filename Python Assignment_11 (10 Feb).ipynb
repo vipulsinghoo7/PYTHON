{
 "cells": [
  {
   "cell_type": "markdown",
   "id": "25506321-3518-484d-8467-7d98018db816",
   "metadata": {},
   "source": [
    "#Q1. Which function is used to open a file? What are the different modes of opening a file? Explain each mode\n",
    "of file opening."
   ]
  },
  {
   "cell_type": "code",
   "execution_count": null,
   "id": "9022a7f4-4a0b-498a-8d85-c52e916ed735",
   "metadata": {},
   "outputs": [],
   "source": [
    "'To open the file, use the built-in open() function.'\n",
    "There are 6 access modes in python for opening a file.\n",
    "\n",
    "# \"r\" - Read - Default value. Opens a file for reading, error if the file does not exist\n",
    "\n",
    "f = open(\"demofile.txt\", \"r\")\n",
    "print(f.read())\n",
    "\n",
    "If the file is located in a different location, you will have to specify the file path\n",
    "f = open(\"D:\\\\myfiles\\welcome.txt\", \"r\")\n",
    "print(f.read())\n",
    "\n",
    "# \"a\" - Append - Opens a file for appending, creates the file if it does not exist\n",
    "\n",
    "# \"w\" - Write - Opens a file for writing, creates the file if it does not exist\n",
    "\n",
    "f = open(\"demofile2.txt\", \"a\")\n",
    "f.write(\"Now the file has more content!\")\n",
    "f.close()\n",
    "\n",
    "# \"x\" - Create - Creates the specified file, returns an error if the file exists\n",
    "\n",
    "f = open(\"myfile.txt\", \"x\") #Result: a new empty file is created!\n",
    "\n",
    "\"t\" - Text - Default value. Text mode\n",
    "\n",
    "\"b\" - Binary - Binary mode (e.g. images)\n"
   ]
  },
  {
   "cell_type": "markdown",
   "id": "f5a44d2c-932e-493a-a49f-045cbcfffdb0",
   "metadata": {},
   "source": [
    "#Q2. Why close() function is used? Why is it important to close a file?"
   ]
  },
  {
   "cell_type": "code",
   "execution_count": null,
   "id": "5c198db3-ba10-452a-906f-27c771abef72",
   "metadata": {},
   "outputs": [],
   "source": [
    "'The close() method closes an open file.'\n",
    "\n",
    "'Closing a file after use is important because it frees up system resources that are being used by the file.'\n",
    "When a file is open, the operating system allocates memory and other resources to the file, which can potentially impact the performance of the \n",
    "system if too many files are open at the same time"
   ]
  },
  {
   "cell_type": "markdown",
   "id": "67a37158-58ed-4862-99d2-fdd43d43fd10",
   "metadata": {},
   "source": [
    "#Q3. Write a python program to create a text file. Write ‘I want to become a Data Scientist’ in that file. Then\n",
    "close the file. Open this file and read the content of the file.  "
   ]
  },
  {
   "cell_type": "code",
   "execution_count": 3,
   "id": "a0f568fd-655b-4c4e-86db-923eaf830afb",
   "metadata": {},
   "outputs": [
    {
     "name": "stdout",
     "output_type": "stream",
     "text": [
      "I want to become a Data Scientist\n"
     ]
    }
   ],
   "source": [
    "with open('readme.txt', 'x') as f:\n",
    "    f.write('I want to become a Data Scientist')\n",
    "    f.close()\n",
    "    \n",
    "    f = open(\"readme.txt\", \"r\")\n",
    "print(f.readline())"
   ]
  },
  {
   "cell_type": "markdown",
   "id": "3771e8a6-05d7-465b-8943-8c65421e512d",
   "metadata": {},
   "source": [
    "#Q4. Explain the following with python code: read(), readline() and readlines()."
   ]
  },
  {
   "cell_type": "code",
   "execution_count": null,
   "id": "8a945f45-1459-488f-a245-7e4407b99ee1",
   "metadata": {},
   "outputs": [],
   "source": [
    "'The read method reads the entire contents of a file and returns it as a string.\n",
    "\n",
    " #using read()\n",
    "with open(\"file.txt\", \"r\") as file:\n",
    "    content = file.read()\n",
    "    print(content)\n",
    "\n",
    "\n",
    "'readline() function reads a line of the file and return it in the form of the string.'\n",
    "It will be efficient when reading a large file because instead of fetching all the data in one go, it fetches line by line.\n",
    "readline() returns the next line of the file which contains a newline character in the end. \n",
    "\n",
    "  # Using readline()\n",
    "file1 = open('myfile.txt', 'r')\n",
    "count = 0\n",
    " \n",
    "while True:\n",
    "    count += 1\n",
    " \n",
    "    # Get next line from file\n",
    "    line = file1.readline()\n",
    "\n",
    "\n",
    "'readlines() is used to read all the lines at a single go and then return them as each line a string element in a list.'\n",
    "This function can be used for small files, as it reads the whole file content to the memory, then split it into separate lines.\n",
    "\n",
    "  # Using readlines()\n",
    "file1 = open('myfile.txt', 'r')\n",
    "Lines = file1.readlines()"
   ]
  },
  {
   "cell_type": "markdown",
   "id": "e0231d0c-0f35-46a6-a28f-280651bed91c",
   "metadata": {},
   "source": [
    "#Q5. Explain why with statement is used with open(). What is the advantage of using with statement and open() together?"
   ]
  },
  {
   "cell_type": "code",
   "execution_count": null,
   "id": "d3ca95e4-65ba-4b99-9193-ae78f35dc976",
   "metadata": {},
   "outputs": [],
   "source": [
    "'we can use the with statement with the open() function in Python to open a file, perform operations on it, and close it.'\n",
    " combining the with statement and the open() function in Python helps us read and write to the file without being worried about closing it.\n",
    "\n",
    "  # advantage of using with statement and open() together.  \n",
    "'No need to explicitly close the opened file, “with statement” takes care of that.'\n",
    "When with the block ends, it will automatically close the file. So, it reduces the number of lines of code and reduces the chances of bug.\n",
    "    "
   ]
  },
  {
   "cell_type": "markdown",
   "id": "328f64d5-6b5d-4fb3-87b1-fd9d53aac456",
   "metadata": {},
   "source": [
    "#Q6. Explain the write() and writelines() functions. Give a suitable example."
   ]
  },
  {
   "cell_type": "code",
   "execution_count": null,
   "id": "e7521659-8ec5-4a2e-b57b-a2423bd4c835",
   "metadata": {},
   "outputs": [],
   "source": [
    "'The write() function will write the content in the file without adding any extra characters.'\n",
    "the string that is passed to the write() function is written into the opened file. The string may include numbers, special characters, or symbols.\n",
    "\n",
    "# Writes string content referenced by file object.\n",
    "file_name.write(content) \n",
    "\n",
    "'The writelines() function writes the content of a list to a file.'\n",
    "the list of strings that is passed to the writelines() function is written into the opened file. \n",
    "\n",
    "# write all the strings present in the list \"list_of_lines\" \n",
    "# referenced by file object.\n",
    "file_name.writelines(list_of_lines)\n",
    "\n"
   ]
  }
 ],
 "metadata": {
  "kernelspec": {
   "display_name": "Python 3 (ipykernel)",
   "language": "python",
   "name": "python3"
  },
  "language_info": {
   "codemirror_mode": {
    "name": "ipython",
    "version": 3
   },
   "file_extension": ".py",
   "mimetype": "text/x-python",
   "name": "python",
   "nbconvert_exporter": "python",
   "pygments_lexer": "ipython3",
   "version": "3.10.8"
  }
 },
 "nbformat": 4,
 "nbformat_minor": 5
}
