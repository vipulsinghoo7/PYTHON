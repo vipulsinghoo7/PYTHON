{
 "cells": [
  {
   "cell_type": "markdown",
   "id": "5f5c72e4-46c6-418c-8cad-30a44bb0067d",
   "metadata": {
    "tags": []
   },
   "source": [
    "#Q1  In Python, a ‘for loop‘ is used to iterate over a sequence of items,  such as a Python tuple, list, string, or range. \n",
    "#   The loop will execute a block of statements for each item in the sequence.\n",
    "#   The for loop is used when we know the number of iterations."
   ]
  },
  {
   "cell_type": "code",
   "execution_count": 8,
   "id": "e565fadf-7bc3-48ea-b9de-43a75a730449",
   "metadata": {},
   "outputs": [],
   "source": [
    "l = [1,2,3,4,5,6,7,8,9,10]"
   ]
  },
  {
   "cell_type": "code",
   "execution_count": 9,
   "id": "3d173fe2-39e0-492f-a114-860bed09b581",
   "metadata": {},
   "outputs": [
    {
     "name": "stdout",
     "output_type": "stream",
     "text": [
      "0.5\n",
      "1.0\n",
      "1.5\n",
      "2.0\n",
      "2.5\n",
      "3.0\n",
      "3.5\n",
      "4.0\n",
      "4.5\n",
      "5.0\n"
     ]
    }
   ],
   "source": [
    "for i in l :\n",
    "    print(i/2 )"
   ]
  },
  {
   "cell_type": "code",
   "execution_count": 1,
   "id": "8ad75e68-6ec9-4e25-972a-b05a2322371a",
   "metadata": {},
   "outputs": [
    {
     "name": "stdout",
     "output_type": "stream",
     "text": [
      "A while loop is used when number of iterations is unknown.\n",
      "It is used when we need to end the loop on a condition other than the number of repititions.\n"
     ]
    }
   ],
   "source": [
    "counter = 0\n",
    "\n",
    "while counter < 1:\n",
    "    print('A while loop is used when number of iterations is unknown.')\n",
    "    counter = counter + 1    \n",
    "else:\n",
    "    print('It is used when we need to end the loop on a condition other than the number of repititions.')"
   ]
  },
  {
   "cell_type": "markdown",
   "id": "13483bec-9855-4057-b9d3-53e141ca11cd",
   "metadata": {},
   "source": [
    "#Q2 python program to print the sum and product of the first 10 natural numbers using for \n",
    "and while loop."
   ]
  },
  {
   "cell_type": "code",
   "execution_count": 5,
   "id": "a5d0e5d2-8a90-4c2a-af9d-0748c6d094a7",
   "metadata": {},
   "outputs": [],
   "source": [
    "l = [1,2,3,4,5,6,7,8,9,10]"
   ]
  },
  {
   "cell_type": "code",
   "execution_count": 6,
   "id": "e49a58a6-2321-4663-a466-be88e71430f4",
   "metadata": {},
   "outputs": [
    {
     "data": {
      "text/plain": [
       "55"
      ]
     },
     "execution_count": 6,
     "metadata": {},
     "output_type": "execute_result"
    }
   ],
   "source": [
    "result = 0\n",
    "for i in l :\n",
    "    result = result+ i \n",
    "result\n",
    "    "
   ]
  },
  {
   "cell_type": "code",
   "execution_count": 11,
   "id": "7dc92b34-d158-447c-b723-7b48ffee6a82",
   "metadata": {},
   "outputs": [
    {
     "name": "stdin",
     "output_type": "stream",
     "text": [
      "enter your number 10\n"
     ]
    },
    {
     "data": {
      "text/plain": [
       "3628800"
      ]
     },
     "execution_count": 11,
     "metadata": {},
     "output_type": "execute_result"
    }
   ],
   "source": [
    "number = int(input(\"enter your number\"))\n",
    "factorial = 1 \n",
    "while number > 0 :\n",
    "    factorial = factorial*number\n",
    "    number = number-1\n",
    "factorial"
   ]
  },
  {
   "cell_type": "markdown",
   "id": "c2b0faa0-8457-4ab7-a7bc-3c304cfd1315",
   "metadata": {},
   "source": [
    "#Q3  python program to compute the electricity bill for a household"
   ]
  },
  {
   "cell_type": "code",
   "execution_count": 1,
   "id": "f6c4be9e-20bb-4918-80d8-30fb0d712b46",
   "metadata": {},
   "outputs": [
    {
     "name": "stdout",
     "output_type": "stream",
     "text": [
      "2250.0\n"
     ]
    }
   ],
   "source": [
    "def calculateBill(units):\n",
    "\n",
    "    \n",
    "\tif (units <= 100):\n",
    "\t\n",
    "\t\treturn units * 4.5;\n",
    "\t\n",
    "\telif (units <= 200):\n",
    "\t\n",
    "\t\treturn ((100 * 4.5) + (units - 100) * 6);\n",
    "\t\n",
    "\telif (units <= 300):\n",
    "\t\n",
    "\t\treturn ((100 * 4.5) + (100 * 6) + (units - 200) * 10);\n",
    "\t\n",
    "\telif (units > 300):\n",
    "\t\n",
    "\t\treturn ((100 * 4.5) + (100 * 6) + (100 * 10) + (units - 300) * 20);\n",
    "\t\n",
    "\treturn 0;\n",
    "\n",
    "units = 310;\n",
    "print(calculateBill(units));\n"
   ]
  },
  {
   "cell_type": "markdown",
   "id": "019bd89b-8baf-4878-9ceb-1aa3eb228e75",
   "metadata": {},
   "source": [
    "#Q4 list of numbers from 1 to 100. Use for loop and while loop to calculate the cube of each number and if the cube of that number is divisible by 4\n",
    "or 5 then append that number in a list and print that list"
   ]
  },
  {
   "cell_type": "code",
   "execution_count": 2,
   "id": "9224c2b1-a9b9-49da-9ab1-6f7de2c69c5f",
   "metadata": {},
   "outputs": [],
   "source": [
    "l4 =[1, 2, 3, 4, 5, 6, 7, 8, 9, 10, 11, 12, 13, 14, 15, 16, 17, 18, 19, 20, 21, 22, 23, 24, 25, 26, 27, 28, 29, 30, 31, 32, 33, 34, 35, 36, 37, 38,\n",
    "     39, 40, 41, 42, 43, 44, 45, 46, 47, 48, 49, 50, 51, 52, 53, 54, 55, 56, 57, 58, 59, 60, 61, 62, 63, 64, 65, 66, 67, 68, 69, 70, 71, 72, 73, 74,\n",
    "     75, 76, 77, 78, 79, 80, 81, 82, 83, 84, 85, 86, 87, 88, 89, 90, 91, 92, 93, 94, 95, 96, 97, 98, 99, 100]"
   ]
  },
  {
   "cell_type": "code",
   "execution_count": 3,
   "id": "cf89badd-5237-483b-a5f8-2fdd3b06de3e",
   "metadata": {},
   "outputs": [
    {
     "name": "stdout",
     "output_type": "stream",
     "text": [
      "[1, 8, 27, 64, 125, 216, 343, 512, 729, 1000, 1331, 1728, 2197, 2744, 3375, 4096, 4913, 5832, 6859, 8000, 9261, 10648, 12167, 13824, 15625, 17576, 19683, 21952, 24389, 27000, 29791, 32768, 35937, 39304, 42875, 46656, 50653, 54872, 59319, 64000, 68921, 74088, 79507, 85184, 91125, 97336, 103823, 110592, 117649, 125000, 132651, 140608, 148877, 157464, 166375, 175616, 185193, 195112, 205379, 216000, 226981, 238328, 250047, 262144, 274625, 287496, 300763, 314432, 328509, 343000, 357911, 373248, 389017, 405224, 421875, 438976, 456533, 474552, 493039, 512000, 531441, 551368, 571787, 592704, 614125, 636056, 658503, 681472, 704969, 729000, 753571, 778688, 804357, 830584, 857375, 884736, 912673, 941192, 970299, 1000000]\n"
     ]
    }
   ],
   "source": [
    "res = []\n",
    "for i in l4:\n",
    "    res.append(i*i*i)\n",
    "print(res)"
   ]
  },
  {
   "cell_type": "code",
   "execution_count": 4,
   "id": "43f871f5-99ed-4573-8b93-42a37f1b4e14",
   "metadata": {},
   "outputs": [],
   "source": [
    "res = [1, 8, 27, 64, 125, 216, 343, 512, 729, 1000, 1331, 1728, 2197, 2744, 3375, 4096, 4913, 5832, 6859, 8000, 9261, 10648, 12167, 13824, 15625,\n",
    "       17576, 19683, 21952, 24389, 27000, 29791, 32768, 35937, 39304, 42875, 46656, 50653, 54872, 59319, 64000, 68921, 74088, 79507, 85184, 91125,\n",
    "       97336, 103823, 110592, 117649, 125000, 132651, 140608, 148877, 157464, 166375, 175616, 185193, 195112, 205379, 216000, 226981, 238328, \n",
    "       250047, 262144, 274625, 287496, 300763, 314432, 328509, 343000, 357911, 373248, 389017, 405224, 421875, 438976, 456533, 474552, 493039,\n",
    "       512000, 531441, 551368, 571787, 592704, 614125, 636056, 658503, 681472, 704969, 729000, 753571, 778688, 804357, 830584, 857375, 884736,\n",
    "       912673, 941192, 970299, 1000000]"
   ]
  },
  {
   "cell_type": "code",
   "execution_count": 5,
   "id": "2905ae6c-8e3e-4b7c-9385-a551cae084eb",
   "metadata": {},
   "outputs": [
    {
     "name": "stdout",
     "output_type": "stream",
     "text": [
      "[8, 64, 125, 216, 512, 1000, 1728, 2744, 3375, 4096, 5832, 8000, 10648, 13824, 15625, 17576, 21952, 27000, 32768, 39304, 42875, 46656, 54872, 64000, 74088, 85184, 91125, 97336, 110592, 125000, 140608, 157464, 166375, 175616, 195112, 216000, 238328, 262144, 274625, 287496, 314432, 343000, 373248, 405224, 421875, 438976, 474552, 512000, 551368, 592704, 614125, 636056, 681472, 729000, 778688, 830584, 857375, 884736, 941192, 1000000]\n"
     ]
    }
   ],
   "source": [
    "new = []\n",
    "for i in res:\n",
    "     if    i % 4 == 0 or i % 5 == 0:\n",
    "            new.append(i)\n",
    "print(new)          \n"
   ]
  },
  {
   "cell_type": "markdown",
   "id": "4debbac3-6931-48a5-ae94-b7df5848f601",
   "metadata": {},
   "source": [
    "#Q5  program to filter count vowels in the below-given string.\n",
    "\n",
    "string = \"I want to become a data scientist\""
   ]
  },
  {
   "cell_type": "code",
   "execution_count": 6,
   "id": "5f9d9e16-e611-4348-8f1f-c142e0472b22",
   "metadata": {},
   "outputs": [
    {
     "name": "stdout",
     "output_type": "stream",
     "text": [
      "[4, 3, 2, 2, 0]\n",
      "11\n"
     ]
    }
   ],
   "source": [
    "string = \"I want to become a data scientist\"\n",
    "\n",
    "vowels = [string.count(x) for x in \"aeiou\"]\n",
    "print(vowels)\n",
    "\n",
    "print(sum(vowels))"
   ]
  }
 ],
 "metadata": {
  "kernelspec": {
   "display_name": "Python 3 (ipykernel)",
   "language": "python",
   "name": "python3"
  },
  "language_info": {
   "codemirror_mode": {
    "name": "ipython",
    "version": 3
   },
   "file_extension": ".py",
   "mimetype": "text/x-python",
   "name": "python",
   "nbconvert_exporter": "python",
   "pygments_lexer": "ipython3",
   "version": "3.10.8"
  }
 },
 "nbformat": 4,
 "nbformat_minor": 5
}
