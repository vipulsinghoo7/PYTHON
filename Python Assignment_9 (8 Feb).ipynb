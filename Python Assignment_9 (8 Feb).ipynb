{
 "cells": [
  {
   "cell_type": "markdown",
   "id": "8db3ff6a-000f-47b3-8f99-0de025dc0b9d",
   "metadata": {},
   "source": [
    "#Q1. What is Abstraction in OOps? Explain with an example."
   ]
  },
  {
   "cell_type": "code",
   "execution_count": null,
   "id": "1bfd5627-a2d7-4534-84db-373d2dd36d0c",
   "metadata": {},
   "outputs": [],
   "source": [
    "'Abstraction in python is defined as a process of handling complexity by hiding unnecessary information from the user.'\n",
    "' Abstraction is the process of hiding the internal details of an application from the outer world.'\n",
    "' It’s used to create a boundary between the application and the client programs.'\n",
    "Example: Your car is a great example of abstraction. You can start a car by turning the key or pressing the start button.\n",
    "         You don't need to know how the engine is getting started, what all components your car has. The car internal implementation and complex\n",
    "         logic is completely hidden from the user.\n"
   ]
  },
  {
   "cell_type": "markdown",
   "id": "571c929b-0dc6-455a-b5cf-909aa7e0b983",
   "metadata": {},
   "source": [
    "#Q2. Differentiate between Abstraction and Encapsulation. Explain with an example."
   ]
  },
  {
   "cell_type": "code",
   "execution_count": null,
   "id": "2ed52ae2-cb31-4874-a40d-29a7028a3131",
   "metadata": {},
   "outputs": [],
   "source": [
    "'Abstraction is a process of hiding the implementation details of a system from the user, and only the functional details will be available to the \n",
    "user end.'\n",
    "    On the other hand, 'Encapsulation is a method of wrapping up the data and code acting on the data into a single unit.'\n",
    "\"Abstraction means Giving only essential things and hiding unnecessary details.\" \n",
    "\"Encapsulation means binding the data members and methods together in a capsule form to avoid accidental changes to data from external users.\"\n",
    "\n",
    "Example: if you have a class that has one or more private fields that you use to store the data, then you are in encapsulation."
   ]
  },
  {
   "cell_type": "markdown",
   "id": "1d51941b-01e1-4469-bebc-99562ab3ce83",
   "metadata": {},
   "source": [
    "#Q3. What is abc module in python? Why is it used?"
   ]
  },
  {
   "cell_type": "code",
   "execution_count": null,
   "id": "f820d75c-94f4-4402-a98b-d20fa7865976",
   "metadata": {},
   "outputs": [],
   "source": [
    "'An abstract base class is a class that is used as a blueprint for other classes.' \n",
    "'Abstract base classes are a powerful feature in Python since they help you define a blueprint for other classes that may have something in common.'\n",
    "\n",
    "It is used because 'The 'abc' module in Python library provides the infrastructure for defining custom abstract base classes.\n",
    "'abc' works by marking methods of the base class as abstract. This is done by @absttractmethod decorator."
   ]
  },
  {
   "cell_type": "markdown",
   "id": "cf08de21-73c4-483b-bb2d-79a4e3332770",
   "metadata": {},
   "source": [
    "#Q4. How can we achieve data abstraction?"
   ]
  },
  {
   "cell_type": "code",
   "execution_count": null,
   "id": "18b583e4-c3a0-456c-a5c3-9863796274eb",
   "metadata": {},
   "outputs": [],
   "source": [
    "'Data Abstraction in Python can be achieved through creating abstract classes and inheriting them later.'\n",
    "'Data abstraction is the reduction of a particular body of data to a simplified representation of the whole.'\n",
    "'Abstraction, in general, is the process of removing characteristics from something to reduce it to a set of essential elements.'"
   ]
  },
  {
   "cell_type": "markdown",
   "id": "51beb564-b0d8-4a40-9454-a6b8bc63487e",
   "metadata": {},
   "source": [
    "#Q5. Can we create an instance of an abstract class? Explain your answer."
   ]
  },
  {
   "cell_type": "code",
   "execution_count": null,
   "id": "c279bf39-00d9-49c1-8000-3d9b7a9d3508",
   "metadata": {},
   "outputs": [],
   "source": [
    "'Abstract classes are not complete, as they may have some methods that are not defined. \n",
    "So we cannot create an instance or object of an abstract class in Python. If we try to instantiate the abstract class, it raises an error."
   ]
  }
 ],
 "metadata": {
  "kernelspec": {
   "display_name": "Python 3 (ipykernel)",
   "language": "python",
   "name": "python3"
  },
  "language_info": {
   "codemirror_mode": {
    "name": "ipython",
    "version": 3
   },
   "file_extension": ".py",
   "mimetype": "text/x-python",
   "name": "python",
   "nbconvert_exporter": "python",
   "pygments_lexer": "ipython3",
   "version": "3.10.8"
  }
 },
 "nbformat": 4,
 "nbformat_minor": 5
}
