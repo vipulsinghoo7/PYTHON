{
 "cells": [
  {
   "cell_type": "markdown",
   "id": "79e3fcf0-81bf-491e-b598-4fb4a5829b1e",
   "metadata": {},
   "source": [
    "# Q1. What is Multi Threading in Python? Why it is used? Name the module used to handle threads in python.\n",
    "\n",
    "-Multithreading in Python is a technique where a program is divided into multiple threads of execution that can run concurrently. Each thread is a separate flow of control that can perform a specific task, and the threads share the same memory space, allowing them to communicate and coordinate with each other.\n",
    "\n",
    "-Multithreading is used in Python to perform multiple tasks simultaneously and make programs more efficient by utilizing the available hardware resources. It is especially useful in applications that involve I/O operations or other tasks that are blocking, as it allows the program to continue executing other tasks while waiting for the blocked task to complete.\n",
    "\n",
    "-In Python, the threading module is used to handle threads. This module provides a simple and easy-to-use interface for creating and managing threads, with support for features such as thread synchronization, thread-safe data structures, and thread communication. The threading module is part of the standard Python library, so it is available on all platforms where Python is supported."
   ]
  },
  {
   "cell_type": "code",
   "execution_count": null,
   "id": "2d1413c5-16c7-4e64-879d-b7f29b76905a",
   "metadata": {},
   "outputs": [],
   "source": []
  },
  {
   "cell_type": "markdown",
   "id": "21ab64e9-b5d0-4702-af9b-a3d20b8fcefa",
   "metadata": {},
   "source": [
    "# Q2. Why Threading Module is used ? Write the use of following functions\n",
    "\n",
    "1. activeCount()\n",
    "2. currentThread()\n",
    "3. enumerate\n",
    "\n",
    "-The threading module in Python is used to create, manage, and work with threads in Python programs. It provides a high-level interface to manage threads and allows developers to create multi-threaded applications with ease. The module provides several functions that help developers manage threads effectively\n",
    "\n",
    "Here's the use of the following functions:\n",
    "\n",
    "activeCount(): # The activeCount() function is used to get the number of thread objects that are currently active in the program. This can be useful for monitoring the status of threads and ensuring that all threads have completed before exiting the program.\n",
    "\n",
    "currentThread(): # The currentThread() function is used to get a reference to the current thread object that is executing the function. This can be useful for identifying the current thread, and for passing the thread object to other functions for manipulation.\n",
    "\n",
    "enumerate(): # The enumerate() function is used to get a list of all thread objects that are currently active in the program. This can be useful for iterating over all active threads and performing operations on them, such as waiting for them to complete or checking their status."
   ]
  },
  {
   "cell_type": "code",
   "execution_count": null,
   "id": "279db9de-6efa-43ba-8070-25e30a0f53cb",
   "metadata": {},
   "outputs": [],
   "source": []
  },
  {
   "cell_type": "markdown",
   "id": "e9407811-78f3-4349-9b5e-66d1f946e821",
   "metadata": {},
   "source": [
    "# Q3. Explain the following functions:\n",
    "1. run()\n",
    "2. start()\n",
    "3. join()\n",
    "4. isAlive()\n",
    "\n",
    "-run(): The run() method is the entry point for the thread. When a thread is started, its run() method is called. This method can be overridden to define the thread's behavior.\n",
    "\n",
    "-start(): The start() method is used to start the execution of a thread. When the start() method is called, the thread's run() method is executed in a separate thread of execution.\n",
    "\n",
    "-join(): The join() method is used to wait for the thread to complete its execution. When the join() method is called, the program waits until the thread completes before continuing execution.\n",
    "\n",
    "-isAlive(): The isAlive() method is used to check whether the thread is currently executing. The method returns True if the thread is currently executing, and False otherwise."
   ]
  },
  {
   "cell_type": "code",
   "execution_count": null,
   "id": "70533715-7ce5-4206-bd22-7242f9d39d46",
   "metadata": {},
   "outputs": [],
   "source": []
  },
  {
   "cell_type": "markdown",
   "id": "e0f25756-a7bf-484e-abc1-d63498c63378",
   "metadata": {},
   "source": [
    "# Q4.  Write a python program to create two threads. Thread one must print the list of squares and thread two must print the list of cubes.\n"
   ]
  },
  {
   "cell_type": "code",
   "execution_count": 2,
   "id": "96ed42f8-d969-44a0-8cb5-d707d386a989",
   "metadata": {},
   "outputs": [
    {
     "name": "stdout",
     "output_type": "stream",
     "text": [
      "Square of 1 = 1\n",
      "Square of 2 = 4\n",
      "Square of 3 = 9\n",
      "Square of 4 = 16\n",
      "Square of 5 = 25\n",
      "Square of 6 = 36\n",
      "Square of 7 = 49\n",
      "Square of 8 = 64\n",
      "Square of 9 = 81\n",
      "Square of 10 = 100\n",
      "Cube of 11 = 1331\n",
      "Cube of 12 = 1728\n",
      "Cube of 13 = 2197\n",
      "Cube of 14 = 2744\n",
      "Cube of 15 = 3375\n",
      "Cube of 16 = 4096\n",
      "Cube of 17 = 4913\n",
      "Cube of 18 = 5832\n",
      "Cube of 19 = 6859\n",
      "Cube of 20 = 8000\n"
     ]
    }
   ],
   "source": [
    "import threading\n",
    "\n",
    "def print_squares():\n",
    "    for i in range(1, 11):\n",
    "        print(f\"Square of {i} = {i**2}\")\n",
    "\n",
    "def print_cubes():\n",
    "    for i in range(11, 21):\n",
    "        print(f\"Cube of {i} = {i**3}\")\n",
    "\n",
    "t1 = [threading.Thread(target=print_squares)]\n",
    "t2 = [threading.Thread(target=print_cubes)]\n",
    "\n",
    "for k in t1 :\n",
    "    k.start()\n",
    "    \n",
    "for k in t2 :\n",
    "    k.start()\n",
    "\n",
    "\n",
    "k.join()\n",
    "k.join()"
   ]
  },
  {
   "cell_type": "markdown",
   "id": "8cc44dca-d65e-4d0f-a2e1-201f3b5fe97c",
   "metadata": {},
   "source": [
    "# Q5. State advantages and disadvantages of multithreading.\n",
    "\n",
    "---Advantages of Multithreading:\n",
    "\n",
    "\" Improved performance \": Multithreading allows a program to perform multiple tasks simultaneously, which can lead to better performance and faster execution times. This is especially useful in applications that involve I/O or other tasks that are blocking.\n",
    "\n",
    "\" Resource sharing \": Multithreading allows threads to share resources such as memory and CPU time, which can lead to more efficient resource utilization.\n",
    "\n",
    "\" Asynchronous execution \": Multithreading can be used to perform asynchronous I/O operations, where the program can continue executing other tasks while waiting for I/O operations to complete. This can improve the responsiveness of the program.\n",
    "\n",
    "\" Parallel processing \": Multithreading can be used to perform tasks in parallel, where multiple threads can work on the same task simultaneously. This can reduce the time required to complete the task.\n",
    "\n",
    "---Disadvantages of Multithreading:\n",
    "\n",
    "\" Complexity \": Multithreading adds complexity to a program, making it more difficult to design, develop, and debug. It can be challenging to ensure thread safety and avoid race conditions and deadlocks.\n",
    "\n",
    "\" Overhead \": Multithreading introduces overhead in terms of memory and CPU time, as each thread requires its own stack and context switching between threads requires additional processing time.\n",
    "\n",
    "\" Synchronization issues \": Multithreading introduces synchronization issues, as threads may access shared resources simultaneously, leading to conflicts and data corruption.\n",
    "\n",
    "\" Debugging challenges \": Debugging multithreaded programs can be challenging, as the behavior of the program can be non-deterministic and difficult to reproduce."
   ]
  },
  {
   "cell_type": "code",
   "execution_count": null,
   "id": "6502a730-f049-44d0-bfd1-9b20fa4e416c",
   "metadata": {},
   "outputs": [],
   "source": []
  },
  {
   "cell_type": "markdown",
   "id": "78407022-03bb-4451-b61e-ad962ae772f7",
   "metadata": {},
   "source": [
    "# Q6. Explain deadlocks and race conditions.\n",
    "\n",
    "Deadlock and race condition are two common types of concurrency-related bugs that can occur in multithreaded programs.\n",
    "\n",
    "\" Deadlock \": A deadlock occurs when two or more threads are blocked, waiting for each other to release resources they need to continue execution. This results in a situation where no thread can make progress and the program appears to hang. Deadlocks can occur when threads compete for exclusive access to resources, such as shared memory or a network socket.\n",
    "\n",
    "\" Race condition \": A race condition occurs when the behavior of a program depends on the order or timing of thread execution. Specifically, it occurs when two or more threads access a shared resource in an unpredictable order, resulting in unexpected behavior. For example, if two threads both try to write to the same variable at the same time, the final value of the variable will depend on the order in which the writes occur."
   ]
  },
  {
   "cell_type": "code",
   "execution_count": null,
   "id": "efe34102-f6fa-4bad-a0d6-d9da1409407c",
   "metadata": {},
   "outputs": [],
   "source": []
  }
 ],
 "metadata": {
  "kernelspec": {
   "display_name": "Python 3 (ipykernel)",
   "language": "python",
   "name": "python3"
  },
  "language_info": {
   "codemirror_mode": {
    "name": "ipython",
    "version": 3
   },
   "file_extension": ".py",
   "mimetype": "text/x-python",
   "name": "python",
   "nbconvert_exporter": "python",
   "pygments_lexer": "ipython3",
   "version": "3.10.8"
  }
 },
 "nbformat": 4,
 "nbformat_minor": 5
}
