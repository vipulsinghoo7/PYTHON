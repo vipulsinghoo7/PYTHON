{
 "cells": [
  {
   "cell_type": "markdown",
   "id": "cd38b8a1-0999-4b4e-b610-61e4ab09f1a9",
   "metadata": {},
   "source": [
    "#Q1. Who developed python programming language ?"
   ]
  },
  {
   "cell_type": "code",
   "execution_count": 2,
   "id": "46569e4f-7886-44a2-ba6d-06c0a2a4a437",
   "metadata": {},
   "outputs": [],
   "source": [
    "'Python was created by Guido van Rossum'"
   ]
  },
  {
   "cell_type": "markdown",
   "id": "3187761b-3fdf-4c9d-9464-f6c6e4798240",
   "metadata": {},
   "source": [
    "#Q2. Which type of programming does python support ?"
   ]
  },
  {
   "cell_type": "code",
   "execution_count": 5,
   "id": "f113d5d7-15a9-455a-bdf0-a5fb74ae3d2d",
   "metadata": {},
   "outputs": [],
   "source": [
    "'Python is an interpreted programming language, supporting object-oriented, structured, and functional programming.'"
   ]
  },
  {
   "cell_type": "markdown",
   "id": "0aed3db3-d27f-4b64-8316-5e3b888135b1",
   "metadata": {},
   "source": [
    "#Q3. Is python case sensitive when dealing with identifiers ?"
   ]
  },
  {
   "cell_type": "code",
   "execution_count": null,
   "id": "a5f70e95-263c-44c8-892e-1c215115557d",
   "metadata": {},
   "outputs": [],
   "source": [
    "'Yes, Python is a case−sensitive programming language. This means that it considers uppercase and lowercase letters differently.'\n",
    "As a result, in Python, we cannot use two terms with the same characters but different cases interchangeably."
   ]
  },
  {
   "cell_type": "markdown",
   "id": "828b87d7-7d6e-4b7b-a7b2-bbf2da27afb7",
   "metadata": {},
   "source": [
    "#Q4. What is the correct extension of python file ?"
   ]
  },
  {
   "cell_type": "code",
   "execution_count": null,
   "id": "2ce5ddab-9f4e-4ded-991a-0ce7c93f6c9e",
   "metadata": {},
   "outputs": [],
   "source": [
    "'The correct extension of python is \". py\" and can be written in any text editor.'\n",
    "We need to use the extension . py to save these files."
   ]
  },
  {
   "cell_type": "markdown",
   "id": "0fac889d-dbff-4669-a332-e8312efc6101",
   "metadata": {},
   "source": [
    "#Q5. Is python code compiled or interpreted ?"
   ]
  },
  {
   "cell_type": "code",
   "execution_count": null,
   "id": "5f9efbf1-8e38-4baa-9852-ed25963b941f",
   "metadata": {},
   "outputs": [],
   "source": [
    "'Python is both compiled as well as an interpreted language.'\n",
    "'This means when we run a python code, it is first compiled and then interpreted lineby line.\n",
    "The compilation part is mostly hidden from the user."
   ]
  },
  {
   "cell_type": "markdown",
   "id": "8250eb7b-afb5-4060-9233-903fe81f419a",
   "metadata": {},
   "source": [
    "#Q6. Name a few blocks of code used to define in python language ?"
   ]
  },
  {
   "cell_type": "code",
   "execution_count": null,
   "id": "73e2f6dd-6bd3-41d6-a117-68aabc4cbe6a",
   "metadata": {},
   "outputs": [],
   "source": [
    "'a module, a function body, and a class definition.'\n",
    "A Python program is constructed from code blocks."
   ]
  },
  {
   "cell_type": "markdown",
   "id": "04b5b222-edc0-46fb-b5a2-ed0af9e2a0b5",
   "metadata": {},
   "source": [
    "#Q7. State a character used to define single-line comments in python ?"
   ]
  },
  {
   "cell_type": "code",
   "execution_count": null,
   "id": "aa88b5f8-2781-491a-bb8a-22a4559a4e7f",
   "metadata": {},
   "outputs": [],
   "source": [
    "'In Python, we use the hash symbol # to write a single-line comment.'\n",
    " Comments are lines of code or statement that the interpreter or Python compiler ignores during execution."
   ]
  },
  {
   "cell_type": "markdown",
   "id": "038db782-35ba-4ce5-bc79-991d49bbccc7",
   "metadata": {},
   "source": [
    "#Q8. Mention function which can help us to find the version of python that we are currently working on ?"
   ]
  },
  {
   "cell_type": "code",
   "execution_count": 5,
   "id": "875d9dbc-092a-4bbc-b080-2c6fd1014a6d",
   "metadata": {},
   "outputs": [
    {
     "name": "stdout",
     "output_type": "stream",
     "text": [
      "Current Python Version- 3.10.8\n"
     ]
    }
   ],
   "source": [
    "# python_version() function is used to find the version of python that we are currently working on.\n",
    "\n",
    "from platform import python_version\n",
    "print(\"Current Python Version-\", python_version())\n"
   ]
  },
  {
   "cell_type": "markdown",
   "id": "31fa6cdf-331f-46ba-8e73-b31c8e556d51",
   "metadata": {},
   "source": [
    "#Q9. Python supports the creation of anonymous function at runtime, using a construct called ______ ?"
   ]
  },
  {
   "cell_type": "code",
   "execution_count": null,
   "id": "b232e504-12c0-4475-9f0a-cded8bc094e4",
   "metadata": {},
   "outputs": [],
   "source": [
    "lambda function"
   ]
  },
  {
   "cell_type": "markdown",
   "id": "252e2559-2141-43f7-993e-001eb25cd2fa",
   "metadata": {},
   "source": [
    "#Q10. What does pip stands for python ?"
   ]
  },
  {
   "cell_type": "code",
   "execution_count": null,
   "id": "03a2bb4f-4441-4381-8cf9-05ece6ae5578",
   "metadata": {},
   "outputs": [],
   "source": [
    "\"Preferred Installer Program\" "
   ]
  },
  {
   "cell_type": "markdown",
   "id": "5c3bc94b-6732-4624-9fd5-1f5277aafed5",
   "metadata": {},
   "source": [
    "#Q11. Mention a few built-in-function in python ?"
   ]
  },
  {
   "cell_type": "code",
   "execution_count": null,
   "id": "b3a5a1e3-a174-42c1-b0bf-8ac73876ebf3",
   "metadata": {},
   "outputs": [],
   "source": [
    "print( ) function. \n",
    "type( ) function. \n",
    "input( ) function. \n",
    "abs( ) function. \n",
    "pow( ) function. \n",
    "dir( ) function. \n",
    "sorted( ) function. \n",
    "max( ) function."
   ]
  },
  {
   "cell_type": "markdown",
   "id": "0d3a4314-fb96-4572-85fa-35636f8fec47",
   "metadata": {},
   "source": [
    "#Q12. What is the maximum possible length of an identifietrs in python ?"
   ]
  },
  {
   "cell_type": "code",
   "execution_count": null,
   "id": "cb76116e-4c40-438e-b307-09a463d4f4ff",
   "metadata": {},
   "outputs": [],
   "source": [
    "\"Python identifiers are unlimited in length\" but as per PEP-8 you should limit identifier to a maximum of 79 character for better\n",
    "readability but there is no restriction."
   ]
  },
  {
   "cell_type": "markdown",
   "id": "67e9e456-2418-4857-ac51-4332e6017122",
   "metadata": {},
   "source": [
    "#Q13. What are the benefits of using python ?"
   ]
  },
  {
   "cell_type": "code",
   "execution_count": null,
   "id": "621a3c79-5963-4386-8fd9-a3ae3c544853",
   "metadata": {},
   "outputs": [],
   "source": [
    "'One of the top benefits of Python is that it is easy to learn and fun to use.'\n",
    "'Its syntax, unlike most computer languages, reads like English, so it isn't as stressful to learn as other programming languages.'\n",
    "Python Has a Simple Syntax. ...\n",
    "Python Is the King of Data Science. ...\n",
    "Python Can Do any Task. ...\n",
    "Python Is a Powerful Language. ...\n",
    "Python Frameworks Are Great for Web Development. ...\n",
    "Python Has a Great Online Community."
   ]
  },
  {
   "cell_type": "markdown",
   "id": "f362ceef-5f21-4eed-bcd6-acc2a6731003",
   "metadata": {},
   "source": [
    "#Q14. How is memory managed in python ?"
   ]
  },
  {
   "cell_type": "code",
   "execution_count": null,
   "id": "0c6d074b-de73-4b17-98b5-90c10e7738ea",
   "metadata": {},
   "outputs": [],
   "source": [
    "'Python uses memory pools to manage memory allocation for small objects (up to 512 bytes).'\n",
    "Memory pools are pre-allocated chunks of memory, organized into separate pools based on the size of the objects they store.\n",
    "Each pool is further divided into blocks, which are the actual units of memory that store objects."
   ]
  },
  {
   "cell_type": "markdown",
   "id": "83b3198b-db06-4da3-b055-61be36e60fe6",
   "metadata": {},
   "source": [
    "#Q15. How to install python on windows and set path variables ?"
   ]
  },
  {
   "cell_type": "code",
   "execution_count": null,
   "id": "2772cb8b-573a-4d8a-991e-e13b97a9ecc2",
   "metadata": {},
   "outputs": [],
   "source": [
    "Step 1: Select Version of Python to Install.\n",
    "Step 2: Download Python Executable Installer.\n",
    "Step 3: Run Executable Installer.\n",
    "Step 4: Verify Python Was Installed On Windows.\n",
    "\n",
    "The complete path of python.exe can be added by:\n",
    "\n",
    "Right-clicking This PC and going to Properties.\n",
    "\n",
    "Clicking on the Advanced system settings in the menu on the left.\n",
    "\n",
    "Clicking on the Environment Variables button o​n the bottom right.\n",
    "\n",
    "In the System variables section, selecting the Path variable and clicking on Edit. The next screen will show all the directories that are currently\n",
    "a part of the PATH variable.\n",
    "\n",
    "Clicking on New and entering Python’s install directory.\n",
    "\n"
   ]
  },
  {
   "cell_type": "markdown",
   "id": "5e732675-f6fe-402f-8871-c04751c6c795",
   "metadata": {},
   "source": [
    "#Q16. Is Identation required in python ?"
   ]
  },
  {
   "cell_type": "code",
   "execution_count": null,
   "id": "e5e94289-1e1d-4f85-af3b-fc9b21b04aa8",
   "metadata": {},
   "outputs": [],
   "source": [
    "The first line of python code cannot have an indentation. \n",
    "'Indentation is mandatory in python to define the blocks of statements.'\n",
    "The number of spaces must be uniform in a block of code. \n",
    "It is preferred to use whitespaces instead of tabs to indent in python."
   ]
  }
 ],
 "metadata": {
  "kernelspec": {
   "display_name": "Python 3 (ipykernel)",
   "language": "python",
   "name": "python3"
  },
  "language_info": {
   "codemirror_mode": {
    "name": "ipython",
    "version": 3
   },
   "file_extension": ".py",
   "mimetype": "text/x-python",
   "name": "python",
   "nbconvert_exporter": "python",
   "pygments_lexer": "ipython3",
   "version": "3.10.8"
  }
 },
 "nbformat": 4,
 "nbformat_minor": 5
}
