{
 "cells": [
  {
   "cell_type": "markdown",
   "id": "ba9b7bb2-fed0-450f-96ec-1d03c880ad3e",
   "metadata": {},
   "source": [
    "#Q1. Write a  program to accept percentage from user and display the grade according to the following criterion:\t\t\t\n",
    "\t\t\t\n",
    "\tMARKS            \tGRADE\t\n",
    "\t>90\t                 A\t\n",
    "\t>80 and <=90             B\t\n",
    "\t>60 and <=80\t         C\t\n",
    "\tbelow 60\t         D\t"
   ]
  },
  {
   "cell_type": "code",
   "execution_count": 1,
   "id": "763cde07-7be4-4d76-bb27-07b374da665b",
   "metadata": {},
   "outputs": [
    {
     "name": "stdin",
     "output_type": "stream",
     "text": [
      "Enter marks of the 1st subject:  99\n",
      "Enter marks of the 2nd subject:  85\n",
      "Enter marks of the 3rd subject:  76\n",
      "Enter marks of the 4th subject:  94\n",
      "Enter marks of the 5th subject:  71\n"
     ]
    },
    {
     "name": "stdout",
     "output_type": "stream",
     "text": [
      "Grade: B\n"
     ]
    }
   ],
   "source": [
    "sub1=int(input(\"Enter marks of the 1st subject: \"))\n",
    "sub2=int(input(\"Enter marks of the 2nd subject: \"))\n",
    "sub3=int(input(\"Enter marks of the 3rd subject: \"))\n",
    "sub4=int(input(\"Enter marks of the 4th subject: \"))\n",
    "sub5=int(input(\"Enter marks of the 5th subject: \"))\n",
    "avg=(sub1+sub2+sub3+sub4+sub4)/5\n",
    "\n",
    "if(avg>90):\n",
    "    print(\"Grade: A\")\n",
    "elif(avg>80 and avg<=90):\n",
    "    print(\"Grade: B\")\n",
    "elif(avg>60 and avg<=80):\n",
    "    print(\"Grade: C\")\n",
    "elif(avg<60):\n",
    "    print(\"Grade: D\")\n"
   ]
  },
  {
   "cell_type": "markdown",
   "id": "4eab7852-4b81-4149-8843-e195ce3216d5",
   "metadata": {},
   "source": [
    "#Q2. Write a program to accept the cost price of a bike and display the road tax to be paid according to the following criteria:\t\t\t\n",
    "\t\t\t\n",
    "\tTAX\t       COST PRICE (in Rs)\t\n",
    "\t15%\t      >100000\t\n",
    "\t10%\t      >50000 and <=100000\t\n",
    "\t5%\t      <= 50000\t\n"
   ]
  },
  {
   "cell_type": "code",
   "execution_count": 2,
   "id": "768f44e3-4919-4787-98e7-cc77bc34aacd",
   "metadata": {},
   "outputs": [
    {
     "name": "stdin",
     "output_type": "stream",
     "text": [
      "Enter the cost of the bike:  70000\n"
     ]
    },
    {
     "name": "stdout",
     "output_type": "stream",
     "text": [
      "Tax value=10% 7000.0\n"
     ]
    }
   ],
   "source": [
    "x=0\n",
    "\n",
    "cp=int(input(\"Enter the cost of the bike: \"))\n",
    "\n",
    "if cp>100000:\n",
    "\n",
    "   x=15/100*cp\n",
    "\n",
    "   print(\"Tax value=15%\",x)\n",
    "\n",
    "elif cp>50000 and cp<=100000:\n",
    "\n",
    "   x=10/100*cp\n",
    "\n",
    "   print(\"Tax value=10%\",x)\n",
    "\n",
    "elif cp<=50000:\n",
    "\n",
    "     x=5/100*cp\n",
    "\n",
    "     print(\"Tax value=5%\",x)\n"
   ]
  },
  {
   "cell_type": "markdown",
   "id": "457fb91a-c915-4937-81d4-ff3a66c622aa",
   "metadata": {},
   "source": [
    "#Q3. Accept any city from the user and display monuments of that city.\t\t\t\n",
    "\t\t\t\n",
    "\tCITY\t    MONUMENT\t\n",
    "\tDelhi\t    Red Fort\t\n",
    "\tAgra\t    Taj Mahal\t\n",
    "\tJaipur\t    Jal Mahal\t\n"
   ]
  },
  {
   "cell_type": "code",
   "execution_count": 3,
   "id": "3be57e8f-d6fa-4058-aac1-1c01d4890aec",
   "metadata": {},
   "outputs": [
    {
     "name": "stdin",
     "output_type": "stream",
     "text": [
      "Enter city NAME DELHI\n"
     ]
    },
    {
     "name": "stdout",
     "output_type": "stream",
     "text": [
      "Red Fort\n"
     ]
    }
   ],
   "source": [
    "city = input(\"Enter city NAME\")\n",
    "if city.upper() == \"DELHI\":\n",
    "    print(\"Red Fort\")\n",
    "    \n",
    "elif city.upper() == \"AGRA\":\n",
    "    print(\"Raj Mahal\")\n",
    "            \n",
    "elif city.upper() == \"JAIPUR\":\n",
    "    print(\"Jal Mahal\")"
   ]
  },
  {
   "cell_type": "markdown",
   "id": "71b154ee-8e70-4605-bf72-e89cff6f1a2b",
   "metadata": {},
   "source": [
    "#Q4. Check how many times a given number divided by 3 before it is less than or equal to 10."
   ]
  },
  {
   "cell_type": "code",
   "execution_count": 6,
   "id": "42e261c3-68eb-41cc-80c6-bb0f0db3bb8e",
   "metadata": {},
   "outputs": [
    {
     "name": "stdout",
     "output_type": "stream",
     "text": [
      "total iteration required 3\n"
     ]
    }
   ],
   "source": [
    "count = 0\n",
    "\n",
    "number = 210\n",
    "\n",
    "while number > 10:\n",
    "       # divide number by 3\n",
    "    number = number / 3\n",
    "       # increase the count\n",
    "    count = count + 1\n",
    "    \n",
    "print('total iteration required',count)\n",
    "    "
   ]
  },
  {
   "cell_type": "markdown",
   "id": "ae7bde64-6f82-4397-a570-b51407fc7313",
   "metadata": {},
   "source": [
    "#Q5. Why and when to use a while loop in python give a detailed description ?"
   ]
  },
  {
   "cell_type": "code",
   "execution_count": 13,
   "id": "dffc1042-bb46-4e80-9bbf-8a8fcc1ddec3",
   "metadata": {},
   "outputs": [
    {
     "name": "stdout",
     "output_type": "stream",
     "text": [
      "Hello\n",
      "Hello\n",
      "Hello\n"
     ]
    }
   ],
   "source": [
    "#Python While Loop is used to execute a block of statements repeatedly until a given condition is satisfied.\n",
    "\n",
    "#And when the condition becomes false, the line immediately after the loop in the program is executed.\n",
    "\n",
    "# Python program to illustrate\n",
    "# while loop\n",
    "count = 0\n",
    "while (count < 3):\n",
    "\tcount = count + 1\n",
    "\tprint(\"Hello\")\n"
   ]
  },
  {
   "cell_type": "markdown",
   "id": "b9ee13a4-dca5-4fcf-ac73-454cdd8821cf",
   "metadata": {},
   "source": [
    "#Q6. Use nested while loop to print 3 different pattern."
   ]
  },
  {
   "cell_type": "code",
   "execution_count": 3,
   "id": "51e0a06f-5a03-43ee-9a9a-96ba4e0c32bd",
   "metadata": {},
   "outputs": [
    {
     "name": "stdout",
     "output_type": "stream",
     "text": [
      "0 0 0 0 0 0 \n",
      "0 1 2 3 4 5 \n",
      "0 2 4 6 8 10 \n",
      "0 3 6 9 12 15 \n",
      "\n",
      "0 0 0 0 0 0 \n",
      "0 2 4 6 8 10 \n",
      "0 4 8 12 16 20 \n",
      "0 6 12 18 24 30 \n",
      "\n",
      "0 0 0 0 0 0 \n",
      "0 3 6 9 12 15 \n",
      "0 6 12 18 24 30 \n",
      "0 9 18 27 36 45 \n",
      "\n",
      "0 0 0 0 0 0 \n",
      "0 4 8 12 16 20 \n",
      "0 8 16 24 32 40 \n",
      "0 12 24 36 48 60 \n",
      "\n",
      "1 \n",
      "1 2 \n",
      "1 2 3 \n",
      "1 2 3 4 \n",
      "1 2 3 4 5 \n",
      "0 1 2 \n",
      "0 2 4 \n",
      "0 3 6 \n"
     ]
    }
   ],
   "source": [
    "i = 1\n",
    "while i <= 4 :\n",
    "    j = 0\n",
    "    while  j <= 3 :\n",
    "        k = 0\n",
    "        while  k <= 5 :\n",
    "            print(i*j*k, end=\" \")\n",
    "            k += 1\n",
    "        print()\n",
    "        j += 1\n",
    "    print()\n",
    "    i += 1\n"
   ]
  },
  {
   "cell_type": "markdown",
   "id": "e474eca3-9238-47ee-9242-d10c7d374448",
   "metadata": {},
   "source": [
    "#Q7. Reverse a while loop to display numbers from 10 to 1."
   ]
  },
  {
   "cell_type": "code",
   "execution_count": 4,
   "id": "fc6508e7-94b5-4339-9fe6-b66f37191860",
   "metadata": {},
   "outputs": [
    {
     "name": "stdout",
     "output_type": "stream",
     "text": [
      "10\n",
      "9\n",
      "8\n",
      "7\n",
      "6\n",
      "5\n",
      "4\n",
      "3\n",
      "2\n",
      "1\n"
     ]
    }
   ],
   "source": [
    "i = 10 \n",
    "while i > 0: \n",
    "    print(i) \n",
    "    i -= 1 "
   ]
  }
 ],
 "metadata": {
  "kernelspec": {
   "display_name": "Python 3 (ipykernel)",
   "language": "python",
   "name": "python3"
  },
  "language_info": {
   "codemirror_mode": {
    "name": "ipython",
    "version": 3
   },
   "file_extension": ".py",
   "mimetype": "text/x-python",
   "name": "python",
   "nbconvert_exporter": "python",
   "pygments_lexer": "ipython3",
   "version": "3.10.8"
  }
 },
 "nbformat": 4,
 "nbformat_minor": 5
}
