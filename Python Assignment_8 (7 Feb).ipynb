{
 "cells": [
  {
   "cell_type": "markdown",
   "id": "6c30b22c-10a9-48bb-a41d-ae99722d4cea",
   "metadata": {},
   "source": [
    "#Q1. You are writing code for a company. The requirement of the company is that you create a python\n",
    "function that will check whether the password entered by the user is correct or not. The function should\n",
    "take the password as input and return the string “Valid Password” if the entered password follows the\n",
    "below-given password guidelines else it should return “Invalid Password”.\n",
    "\n",
    "\n",
    "Note: 1. The Password should contain at least two uppercase letters and at least two lowercase letters.\n",
    "\n",
    "2. The Password should contain at least a number and three special characters.\n",
    "\n",
    "3. The length of the password should be 10 characters long."
   ]
  },
  {
   "cell_type": "code",
   "execution_count": 2,
   "id": "c718c3d4-4d4e-4f36-ac91-c9dea3fe0df9",
   "metadata": {},
   "outputs": [],
   "source": [
    "import re\n",
    "def check_pass(password:str)->str:\n",
    "  if len(password)<10:\n",
    "    return 'Invalid password'\n",
    "  if not re.search(r'[a-z].*[a-z]',password):\n",
    "           return 'Invalid password'\n",
    "  if not re.search(r'[A-Z].*[A-Z]',password):\n",
    "           return 'Invalid password'\n",
    "  if not re.search(r'(\\d)',password):\n",
    "           return 'Inavalid password'\n",
    "  if len(re.findall(r'[^a-zA-Z\\d\\s]',password)) < 3:\n",
    "    return 'Invalid password'\n",
    "   \n",
    "  return 'Valid password'"
   ]
  },
  {
   "cell_type": "code",
   "execution_count": 3,
   "id": "307435b5-d82b-4a90-9ac7-12ef82f86b42",
   "metadata": {},
   "outputs": [
    {
     "data": {
      "text/plain": [
       "'Valid password'"
      ]
     },
     "execution_count": 3,
     "metadata": {},
     "output_type": "execute_result"
    }
   ],
   "source": [
    "check_pass(\"V!pul@$OO7\")"
   ]
  },
  {
   "cell_type": "markdown",
   "id": "b89bfe86-60d6-448a-b607-bbff87f03f0f",
   "metadata": {},
   "source": [
    "#Q2. Solve the below-given questions using at least one of the following: \n",
    "\n",
    "1. Lambda function\n",
    "2. Filter function\n",
    "3. Map function\n",
    "4. List Comprehension\n",
    " "
   ]
  },
  {
   "cell_type": "code",
   "execution_count": 1,
   "id": "d3657be0-1fb2-447d-bd1a-655c153a352c",
   "metadata": {},
   "outputs": [
    {
     "name": "stdout",
     "output_type": "stream",
     "text": [
      "True\n",
      "False\n"
     ]
    }
   ],
   "source": [
    "# Check if the string starts with a particular letter.     # using LAMBDA function\n",
    "\n",
    "\n",
    "starts_with = lambda x: True if x.startswith('P') else False\n",
    "print(starts_with('Python'))\n",
    "starts_with = lambda x: True if x.startswith('P') else False\n",
    "print(starts_with('Java'))\n"
   ]
  },
  {
   "cell_type": "code",
   "execution_count": 3,
   "id": "bb1e6210-c5fb-4702-8e1b-9ef8898f76af",
   "metadata": {},
   "outputs": [
    {
     "name": "stdout",
     "output_type": "stream",
     "text": [
      "The original list is : ['183', '264', '400', '175']\n",
      "Are all strings digits ? : True\n"
     ]
    }
   ],
   "source": [
    "# Check if the string is numeric.         # using FILTER function\n",
    "\n",
    "# initializing list\n",
    "test_list = [\"183\", \"264\", \"400\", \"175\"]\n",
    "\n",
    "# printing original list\n",
    "print(\"The original list is : \" + str(test_list))\n",
    "\n",
    "# checking all elements to be numeric using isdigit()\n",
    "res = list(filter(lambda x: x.isdigit(), test_list))\n",
    "\n",
    "if(len(res) == len(test_list)):\n",
    "\tres = True\n",
    "else:\n",
    "\tres = False\n",
    "# printing result\n",
    "print(\"Are all strings digits ? : \" + str(res))\n",
    "\n",
    " "
   ]
  },
  {
   "cell_type": "code",
   "execution_count": 9,
   "id": "84d64eca-70ec-4f11-a44c-c022a38eb0bf",
   "metadata": {},
   "outputs": [
    {
     "name": "stdout",
     "output_type": "stream",
     "text": [
      "Original list of tuples:\n",
      "[('mango', 99), ('orange', 80), ('grapes', 1000)]\n",
      "\n",
      "Sorting the List of Tuples:\n",
      "[('orange', 80), ('mango', 99), ('grapes', 1000)]\n"
     ]
    }
   ],
   "source": [
    "# Sort a list of tuples having fruit names and their quantity. [(\"mango\",99),(\"orange\",80), (\"grapes\", 1000)]     \n",
    "# using LAMBDA function\n",
    "\n",
    "fruit_quqntity =  [(\"mango\",99),(\"orange\",80), (\"grapes\", 1000)] \n",
    "print(\"Original list of tuples:\")\n",
    "print(fruit_quqntity)\n",
    "fruit_quqntity.sort(key = lambda x: x[1])\n",
    "print(\"\\nSorting the List of Tuples:\")\n",
    "print(fruit_quqntity)\n",
    "\n"
   ]
  },
  {
   "cell_type": "code",
   "execution_count": 4,
   "id": "3c2d7b26-a615-45f1-b36a-833beeb4a382",
   "metadata": {},
   "outputs": [
    {
     "name": "stdout",
     "output_type": "stream",
     "text": [
      "[1, 4, 9, 16, 25, 36, 49, 64, 81, 100]\n"
     ]
    }
   ],
   "source": [
    "# Find the squares of numbers from 1 to 10.           # using MAP function\n",
    "\n",
    " \n",
    "data = [1, 2, 3, 4, 5, 6, 7, 8, 9, 10]\n",
    "\n",
    "squared = map(lambda x: x**2, data)\n",
    "\n",
    "print(list(squared))"
   ]
  },
  {
   "cell_type": "code",
   "execution_count": 5,
   "id": "ca6f086c-de11-42b0-ab65-1d1d486a1652",
   "metadata": {},
   "outputs": [
    {
     "name": "stdout",
     "output_type": "stream",
     "text": [
      "[1, 8, 27, 64, 125, 216, 343, 512, 729, 1000]\n"
     ]
    }
   ],
   "source": [
    "# Find the cube root of numbers from 1 to 10.          # using LIST Comprehension\n",
    " \n",
    "cubes = [i**3 for i in range(1, 11)]\n",
    "print(cubes)"
   ]
  },
  {
   "cell_type": "code",
   "execution_count": 8,
   "id": "6d6f391d-4388-4ecc-bff2-65f8b6bbd619",
   "metadata": {},
   "outputs": [
    {
     "name": "stdin",
     "output_type": "stream",
     "text": [
      "Enter any number to test whether it is odd or even:  498\n"
     ]
    },
    {
     "name": "stdout",
     "output_type": "stream",
     "text": [
      "The number is even\n"
     ]
    }
   ],
   "source": [
    "# Check if a given number is even.                     \n",
    "\n",
    "\n",
    "num = int (input (\"Enter any number to test whether it is odd or even: \"))\n",
    "\n",
    "if (num % 2) == 0:\n",
    "\n",
    "              print (\"The number is even\")\n",
    "\n",
    "else:\n",
    "\n",
    "              print (\"The provided number is odd\")\n",
    "\n",
    "\n"
   ]
  },
  {
   "cell_type": "code",
   "execution_count": 2,
   "id": "f40c7a81-8d4b-46ad-a764-a3aac5db3990",
   "metadata": {},
   "outputs": [
    {
     "name": "stdout",
     "output_type": "stream",
     "text": [
      "[1, 3, 5, 7, 9]\n"
     ]
    }
   ],
   "source": [
    "# Filter odd numbers from the given list.     [1,2,3,4,5,6,7,8,9,10]        \n",
    "# using FILTER function\n",
    " \n",
    "def is_odd(number):\n",
    "    return number % 2 == 1\n",
    "\n",
    "def print_odd_numbers(numbers):\n",
    "    odd_numbers = list(filter(is_odd, numbers))\n",
    "    return odd_numbers\n",
    "\n",
    "numbers = [1, 2, 3, 4, 5, 6, 7, 8, 9, 10]\n",
    "print(print_odd_numbers(numbers))\n"
   ]
  },
  {
   "cell_type": "code",
   "execution_count": 11,
   "id": "ae9c7d58-3710-45d8-aef9-dab2e315c325",
   "metadata": {},
   "outputs": [
    {
     "name": "stdout",
     "output_type": "stream",
     "text": [
      "The original list is : [1, 2, 3, 4, 5, 6, -1, -2, -3, -4, -5, 0]\n",
      "Result after performing sort operation : [0, 1, 2, 3, 4, 5, 6, -5, -4, -3, -2, -1]\n"
     ]
    }
   ],
   "source": [
    "# Sort a list of integers into positive and negative integers lists.  [1,2,3,4,5,6,-1,-2,-3,-4,-5,0]     \n",
    "# using LIST Comprehension\n",
    "\n",
    "# Sort while keeping Positive elements before negatives\n",
    "# using list comprehension\n",
    "\n",
    "# initialize list\n",
    "test_list =  [1,2,3,4,5,6,-1,-2,-3,-4,-5,0] \n",
    "\n",
    "# printing original list\n",
    "print(\"The original list is : \" + str(test_list))\n",
    "positive_nums = [x for x in test_list if x >= 0]\n",
    "negative_nums = [x for x in test_list if x < 0]\n",
    "positive_nums.sort()\n",
    "negative_nums.sort()\n",
    "res = positive_nums + negative_nums\n",
    "# printing result\n",
    "print(\"Result after performing sort operation : \" + str(res))\n",
    "\n",
    "# This code is contributed by vinay pinjala.\n"
   ]
  }
 ],
 "metadata": {
  "kernelspec": {
   "display_name": "Python 3 (ipykernel)",
   "language": "python",
   "name": "python3"
  },
  "language_info": {
   "codemirror_mode": {
    "name": "ipython",
    "version": 3
   },
   "file_extension": ".py",
   "mimetype": "text/x-python",
   "name": "python",
   "nbconvert_exporter": "python",
   "pygments_lexer": "ipython3",
   "version": "3.10.8"
  }
 },
 "nbformat": 4,
 "nbformat_minor": 5
}
